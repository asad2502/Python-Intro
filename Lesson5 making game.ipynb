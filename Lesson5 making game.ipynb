{
 "cells": [
  {
   "cell_type": "code",
   "execution_count": 6,
   "metadata": {},
   "outputs": [
    {
     "name": "stdout",
     "output_type": "stream",
     "text": [
      "your number is too high\n",
      "your number is too low\n",
      "your number is too high\n"
     ]
    }
   ],
   "source": [
    "# making a guessing game\n",
    "import random\n",
    "x = random.randint(1,10)\n",
    "\n",
    "for i in range(3):\n",
    "    y = input('enter a number between 1-10')\n",
    "    y = int(y)\n",
    "    if x<y:\n",
    "        print('your number is too high')\n",
    "    elif x>y:\n",
    "        print('your number is too low')\n",
    "    else:\n",
    "        print('you guessed correctly')\n",
    "        break"
   ]
  },
  {
   "cell_type": "code",
   "execution_count": 7,
   "metadata": {},
   "outputs": [],
   "source": [
    "# make a list of 5 fruits\n",
    "# make a index using rnadomg int from 0 to 5\n",
    "# make an input to gues the fruit\n",
    "# if fruit is same print you guess correctly\n",
    "\n",
    "\n",
    "\n"
   ]
  },
  {
   "cell_type": "code",
   "execution_count": 56,
   "metadata": {},
   "outputs": [
    {
     "name": "stdout",
     "output_type": "stream",
     "text": [
      "you guessed incorrectly, try again\n",
      "you guessed correctly\n",
      "fruit was banana and your guess was banana\n"
     ]
    }
   ],
   "source": [
    "fruitlist = ('banana', 'apple', 'watermelon', 'mango', 'orange')\n",
    "import random\n",
    "x = random.randint(0,4)\n",
    "\n",
    "f = fruitlist[x]\n",
    "\n",
    "for i in range(3):\n",
    "    y = input('guess the fruit (banana, apple, watermelon, mango, or orange)')\n",
    "    if y == f:\n",
    "        print('you guessed correctly')\n",
    "        break\n",
    "    else:\n",
    "        print('you guessed incorrectly, try again')\n",
    "\n",
    "print(f'fruit was {f} and your guess was {y}')"
   ]
  },
  {
   "cell_type": "code",
   "execution_count": null,
   "metadata": {},
   "outputs": [],
   "source": []
  }
 ],
 "metadata": {
  "kernelspec": {
   "display_name": "Python 3",
   "language": "python",
   "name": "python3"
  },
  "language_info": {
   "codemirror_mode": {
    "name": "ipython",
    "version": 3
   },
   "file_extension": ".py",
   "mimetype": "text/x-python",
   "name": "python",
   "nbconvert_exporter": "python",
   "pygments_lexer": "ipython3",
   "version": "3.11.4"
  }
 },
 "nbformat": 4,
 "nbformat_minor": 2
}
