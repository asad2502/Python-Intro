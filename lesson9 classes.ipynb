{
 "cells": [
  {
   "cell_type": "code",
   "execution_count": 12,
   "metadata": {},
   "outputs": [],
   "source": [
    "class Furniture:\n",
    "    def __init__(self,name , legs, color , brand ):\n",
    "        self.name = name\n",
    "        self.legs = legs\n",
    "        self.color = color\n",
    "        self.brand = brand\n",
    "    def tell_info(self):\n",
    "        print(f'{self.name} has {self.legs} legs amd ots clor is {self.color} and its brand is {self.brand}')\n",
    "    \n",
    "        "
   ]
  },
  {
   "cell_type": "code",
   "execution_count": 13,
   "metadata": {},
   "outputs": [],
   "source": [
    "asad1 = Furniture(name='sofa', legs=4, color='black', brand='Ikea')\n",
    "asad2 = Furniture('chair',4,'blue','linkwood')\n"
   ]
  },
  {
   "cell_type": "code",
   "execution_count": 14,
   "metadata": {},
   "outputs": [
    {
     "name": "stdout",
     "output_type": "stream",
     "text": [
      "sofa has 4 legs amd ots clor is black and its brand is Ikea\n"
     ]
    }
   ],
   "source": [
    "asad1.tell_info()"
   ]
  },
  {
   "cell_type": "code",
   "execution_count": 15,
   "metadata": {},
   "outputs": [
    {
     "name": "stdout",
     "output_type": "stream",
     "text": [
      "chair has 4 legs amd ots clor is blue and its brand is linkwood\n"
     ]
    }
   ],
   "source": [
    "asad2.tell_info()"
   ]
  },
  {
   "cell_type": "code",
   "execution_count": 25,
   "metadata": {},
   "outputs": [],
   "source": [
    "class Classroom(Furniture):\n",
    "    def __init__(self, name,legs,color,brand, whiteboard,teacher_name):\n",
    "        super().__init__( name,legs,color,brand)\n",
    "        self.whiteboard = whiteboard\n",
    "        self.teacher_name = teacher_name\n",
    "    \n",
    "    \n"
   ]
  },
  {
   "cell_type": "code",
   "execution_count": 26,
   "metadata": {},
   "outputs": [],
   "source": [
    "c1 = Classroom('tables',4,'brown','apple',True,'asad')"
   ]
  },
  {
   "cell_type": "code",
   "execution_count": 27,
   "metadata": {},
   "outputs": [
    {
     "name": "stdout",
     "output_type": "stream",
     "text": [
      "tables has 4 legs amd ots clor is brown and its brand is apple\n"
     ]
    }
   ],
   "source": [
    "c1.tell_info(\n",
    "\n",
    ")"
   ]
  },
  {
   "cell_type": "code",
   "execution_count": null,
   "metadata": {},
   "outputs": [],
   "source": []
  },
  {
   "cell_type": "code",
   "execution_count": 29,
   "metadata": {},
   "outputs": [],
   "source": [
    "class A :\n",
    "    def __init__(self,name) -> None:\n",
    "        self.name = name\n",
    "    def tell_name(self):\n",
    "        return 'name is '+self.name"
   ]
  },
  {
   "cell_type": "code",
   "execution_count": 30,
   "metadata": {},
   "outputs": [],
   "source": [
    "a = A('asad')"
   ]
  },
  {
   "cell_type": "code",
   "execution_count": 31,
   "metadata": {},
   "outputs": [
    {
     "data": {
      "text/plain": [
       "'name is asad'"
      ]
     },
     "execution_count": 31,
     "metadata": {},
     "output_type": "execute_result"
    }
   ],
   "source": [
    "a.tell_name()"
   ]
  },
  {
   "cell_type": "code",
   "execution_count": 35,
   "metadata": {},
   "outputs": [],
   "source": [
    "class B(A): # inheirttance\n",
    "    def __init__(self, name,age) -> None:\n",
    "        super().__init__(name)# i dont want to write self.name = name again from old class A\n",
    "        self.age = age\n",
    "\n",
    "    def tell_name_age(self):\n",
    "        return 'name is '+ self.name + 'age is' + str(self.age)"
   ]
  },
  {
   "cell_type": "code",
   "execution_count": 36,
   "metadata": {},
   "outputs": [],
   "source": [
    "b = B('asad2',14)"
   ]
  },
  {
   "cell_type": "code",
   "execution_count": 37,
   "metadata": {},
   "outputs": [
    {
     "data": {
      "text/plain": [
       "'name is asad2age is14'"
      ]
     },
     "execution_count": 37,
     "metadata": {},
     "output_type": "execute_result"
    }
   ],
   "source": [
    "b.tell_name_age()"
   ]
  },
  {
   "cell_type": "code",
   "execution_count": 38,
   "metadata": {},
   "outputs": [
    {
     "data": {
      "text/plain": [
       "'name is asad2'"
      ]
     },
     "execution_count": 38,
     "metadata": {},
     "output_type": "execute_result"
    }
   ],
   "source": [
    "b.tell_name()"
   ]
  },
  {
   "cell_type": "code",
   "execution_count": null,
   "metadata": {},
   "outputs": [],
   "source": []
  }
 ],
 "metadata": {
  "kernelspec": {
   "display_name": "Python 3",
   "language": "python",
   "name": "python3"
  },
  "language_info": {
   "codemirror_mode": {
    "name": "ipython",
    "version": 3
   },
   "file_extension": ".py",
   "mimetype": "text/x-python",
   "name": "python",
   "nbconvert_exporter": "python",
   "pygments_lexer": "ipython3",
   "version": "3.11.4"
  }
 },
 "nbformat": 4,
 "nbformat_minor": 2
}
