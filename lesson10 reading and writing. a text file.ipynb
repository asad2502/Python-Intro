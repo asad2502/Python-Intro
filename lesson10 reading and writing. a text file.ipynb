{
 "cells": [
  {
   "cell_type": "markdown",
   "metadata": {},
   "source": [
    "### there is a file named apple present in data folder, we have to load it update prices and save it back as new file"
   ]
  },
  {
   "cell_type": "code",
   "execution_count": 23,
   "metadata": {},
   "outputs": [],
   "source": [
    "file = open('data/fruits_price.txt', 'r')\n",
    "data = file.read()"
   ]
  },
  {
   "cell_type": "code",
   "execution_count": 24,
   "metadata": {},
   "outputs": [
    {
     "data": {
      "text/plain": [
       "'Apple - $1.50\\nBanana - $0.50\\nCherry - $3.00\\nDate - $2.50\\nElderberry - $4.00\\nFig - $2.75\\nGrape - $2.00\\nHoneydew - $3.50\\nIndian Fig - $4.50\\nJackfruit - $5.00\\nKiwi - $1.25\\nLemon - $0.75\\nMango - $1.75\\nNectarine - $2.25\\nOrange - $1.00\\nPapaya - $2.00\\nQuince - $3.25\\nRaspberry - $3.50\\nStrawberry - $2.75\\nTangerine - $1.25'"
      ]
     },
     "execution_count": 24,
     "metadata": {},
     "output_type": "execute_result"
    }
   ],
   "source": [
    "data"
   ]
  },
  {
   "cell_type": "code",
   "execution_count": 25,
   "metadata": {},
   "outputs": [
    {
     "data": {
      "text/plain": [
       "['Apple - $1.50',\n",
       " 'Banana - $0.50',\n",
       " 'Cherry - $3.00',\n",
       " 'Date - $2.50',\n",
       " 'Elderberry - $4.00',\n",
       " 'Fig - $2.75',\n",
       " 'Grape - $2.00',\n",
       " 'Honeydew - $3.50',\n",
       " 'Indian Fig - $4.50',\n",
       " 'Jackfruit - $5.00',\n",
       " 'Kiwi - $1.25',\n",
       " 'Lemon - $0.75',\n",
       " 'Mango - $1.75',\n",
       " 'Nectarine - $2.25',\n",
       " 'Orange - $1.00',\n",
       " 'Papaya - $2.00',\n",
       " 'Quince - $3.25',\n",
       " 'Raspberry - $3.50',\n",
       " 'Strawberry - $2.75',\n",
       " 'Tangerine - $1.25']"
      ]
     },
     "execution_count": 25,
     "metadata": {},
     "output_type": "execute_result"
    }
   ],
   "source": [
    "data_list = data.split('\\n')\n",
    "data_list"
   ]
  },
  {
   "cell_type": "code",
   "execution_count": 26,
   "metadata": {},
   "outputs": [
    {
     "data": {
      "text/plain": [
       "[['Apple', '$1.50'],\n",
       " ['Banana', '$0.50'],\n",
       " ['Cherry', '$3.00'],\n",
       " ['Date', '$2.50'],\n",
       " ['Elderberry', '$4.00'],\n",
       " ['Fig', '$2.75'],\n",
       " ['Grape', '$2.00'],\n",
       " ['Honeydew', '$3.50'],\n",
       " ['Indian Fig', '$4.50'],\n",
       " ['Jackfruit', '$5.00'],\n",
       " ['Kiwi', '$1.25'],\n",
       " ['Lemon', '$0.75'],\n",
       " ['Mango', '$1.75'],\n",
       " ['Nectarine', '$2.25'],\n",
       " ['Orange', '$1.00'],\n",
       " ['Papaya', '$2.00'],\n",
       " ['Quince', '$3.25'],\n",
       " ['Raspberry', '$3.50'],\n",
       " ['Strawberry', '$2.75'],\n",
       " ['Tangerine', '$1.25']]"
      ]
     },
     "execution_count": 26,
     "metadata": {},
     "output_type": "execute_result"
    }
   ],
   "source": [
    "clean_data = []\n",
    "for i in data_list:\n",
    "    clean_data.append(i.split(' - '))\n",
    "\n",
    "clean_data"
   ]
  },
  {
   "cell_type": "code",
   "execution_count": 27,
   "metadata": {},
   "outputs": [
    {
     "data": {
      "text/plain": [
       "'123'"
      ]
     },
     "execution_count": 27,
     "metadata": {},
     "output_type": "execute_result"
    }
   ],
   "source": [
    "'$123'.replace('$','')"
   ]
  },
  {
   "cell_type": "code",
   "execution_count": 28,
   "metadata": {},
   "outputs": [
    {
     "data": {
      "text/plain": [
       "[['Apple', 1.5],\n",
       " ['Banana', 0.5],\n",
       " ['Cherry', 3.0],\n",
       " ['Date', 2.5],\n",
       " ['Elderberry', 4.0],\n",
       " ['Fig', 2.75],\n",
       " ['Grape', 2.0],\n",
       " ['Honeydew', 3.5],\n",
       " ['Indian Fig', 4.5],\n",
       " ['Jackfruit', 5.0],\n",
       " ['Kiwi', 1.25],\n",
       " ['Lemon', 0.75],\n",
       " ['Mango', 1.75],\n",
       " ['Nectarine', 2.25],\n",
       " ['Orange', 1.0],\n",
       " ['Papaya', 2.0],\n",
       " ['Quince', 3.25],\n",
       " ['Raspberry', 3.5],\n",
       " ['Strawberry', 2.75],\n",
       " ['Tangerine', 1.25]]"
      ]
     },
     "execution_count": 28,
     "metadata": {},
     "output_type": "execute_result"
    }
   ],
   "source": [
    "for each in clean_data:\n",
    "    each[1] = each[1].replace('$','')\n",
    "    each[1] = float(each[1])\n",
    "\n",
    "clean_data"
   ]
  },
  {
   "cell_type": "code",
   "execution_count": 29,
   "metadata": {},
   "outputs": [],
   "source": [
    "for each in clean_data:\n",
    "    each[1] = round(each[1]*1.2,2)"
   ]
  },
  {
   "cell_type": "code",
   "execution_count": 30,
   "metadata": {},
   "outputs": [
    {
     "data": {
      "text/plain": [
       "[['Apple', 1.8],\n",
       " ['Banana', 0.6],\n",
       " ['Cherry', 3.6],\n",
       " ['Date', 3.0],\n",
       " ['Elderberry', 4.8],\n",
       " ['Fig', 3.3],\n",
       " ['Grape', 2.4],\n",
       " ['Honeydew', 4.2],\n",
       " ['Indian Fig', 5.4],\n",
       " ['Jackfruit', 6.0],\n",
       " ['Kiwi', 1.5],\n",
       " ['Lemon', 0.9],\n",
       " ['Mango', 2.1],\n",
       " ['Nectarine', 2.7],\n",
       " ['Orange', 1.2],\n",
       " ['Papaya', 2.4],\n",
       " ['Quince', 3.9],\n",
       " ['Raspberry', 4.2],\n",
       " ['Strawberry', 3.3],\n",
       " ['Tangerine', 1.5]]"
      ]
     },
     "execution_count": 30,
     "metadata": {},
     "output_type": "execute_result"
    }
   ],
   "source": [
    "clean_data"
   ]
  },
  {
   "cell_type": "code",
   "execution_count": 32,
   "metadata": {},
   "outputs": [],
   "source": [
    "# write in outwrpiutte in.txt file\n",
    "\n",
    "with open('data/out.txt','w') as file:\n",
    "    for each in clean_data:\n",
    "        file.write(f'{each[0]} - ${each[1]}\\n')\n",
    "\n",
    "file.close()"
   ]
  },
  {
   "cell_type": "code",
   "execution_count": null,
   "metadata": {},
   "outputs": [],
   "source": []
  },
  {
   "cell_type": "code",
   "execution_count": null,
   "metadata": {},
   "outputs": [],
   "source": []
  }
 ],
 "metadata": {
  "kernelspec": {
   "display_name": "Python 3",
   "language": "python",
   "name": "python3"
  },
  "language_info": {
   "codemirror_mode": {
    "name": "ipython",
    "version": 3
   },
   "file_extension": ".py",
   "mimetype": "text/x-python",
   "name": "python",
   "nbconvert_exporter": "python",
   "pygments_lexer": "ipython3",
   "version": "3.11.4"
  }
 },
 "nbformat": 4,
 "nbformat_minor": 2
}
