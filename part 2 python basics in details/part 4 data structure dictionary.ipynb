{
 "cells": [
  {
   "cell_type": "code",
   "execution_count": 51,
   "metadata": {},
   "outputs": [],
   "source": [
    "fc = {'apple': 'red', 'orange': 'orange', 'banana': 'yellow'}"
   ]
  },
  {
   "cell_type": "code",
   "execution_count": 52,
   "metadata": {},
   "outputs": [],
   "source": [
    "fc['mango'] = 'green'"
   ]
  },
  {
   "cell_type": "code",
   "execution_count": 53,
   "metadata": {},
   "outputs": [
    {
     "data": {
      "text/plain": [
       "{'apple': 'red', 'orange': 'orange', 'banana': 'yellow', 'mango': 'green'}"
      ]
     },
     "execution_count": 53,
     "metadata": {},
     "output_type": "execute_result"
    }
   ],
   "source": [
    "fc"
   ]
  },
  {
   "cell_type": "code",
   "execution_count": 54,
   "metadata": {},
   "outputs": [
    {
     "data": {
      "text/plain": [
       "{'apple': 'red', 'orange': 'orange', 'banana': 'yellow'}"
      ]
     },
     "execution_count": 54,
     "metadata": {},
     "output_type": "execute_result"
    }
   ],
   "source": [
    "# delete mango from fc\n",
    "del fc['mango']\n",
    "fc"
   ]
  },
  {
   "cell_type": "code",
   "execution_count": 55,
   "metadata": {},
   "outputs": [],
   "source": [
    "del fc ['orange']\n"
   ]
  },
  {
   "cell_type": "code",
   "execution_count": 56,
   "metadata": {},
   "outputs": [],
   "source": [
    "fc['apple'] ='green'"
   ]
  },
  {
   "cell_type": "code",
   "execution_count": 57,
   "metadata": {},
   "outputs": [
    {
     "data": {
      "text/plain": [
       "{'apple': 'green', 'banana': 'yellow'}"
      ]
     },
     "execution_count": 57,
     "metadata": {},
     "output_type": "execute_result"
    }
   ],
   "source": [
    "fc"
   ]
  },
  {
   "cell_type": "code",
   "execution_count": 58,
   "metadata": {},
   "outputs": [],
   "source": [
    "scores = {}"
   ]
  },
  {
   "cell_type": "code",
   "execution_count": 59,
   "metadata": {},
   "outputs": [],
   "source": [
    "import random"
   ]
  },
  {
   "cell_type": "code",
   "execution_count": 60,
   "metadata": {},
   "outputs": [
    {
     "name": "stdout",
     "output_type": "stream",
     "text": [
      "you win\n",
      "you win\n"
     ]
    },
    {
     "ename": "ValueError",
     "evalue": "invalid literal for int() with base 10: ''",
     "output_type": "error",
     "traceback": [
      "\u001b[0;31m---------------------------------------------------------------------------\u001b[0m",
      "\u001b[0;31mValueError\u001b[0m                                Traceback (most recent call last)",
      "Cell \u001b[0;32mIn[60], line 3\u001b[0m\n\u001b[1;32m      1\u001b[0m \u001b[38;5;28;01mfor\u001b[39;00m i \u001b[38;5;129;01min\u001b[39;00m \u001b[38;5;28mrange\u001b[39m(\u001b[38;5;241m5\u001b[39m):\n\u001b[1;32m      2\u001b[0m     computer \u001b[38;5;241m=\u001b[39m random\u001b[38;5;241m.\u001b[39mrandint(\u001b[38;5;241m1\u001b[39m, \u001b[38;5;241m2\u001b[39m)\n\u001b[0;32m----> 3\u001b[0m     x \u001b[38;5;241m=\u001b[39m \u001b[38;5;28;43mint\u001b[39;49m\u001b[43m(\u001b[49m\u001b[38;5;28;43minput\u001b[39;49m\u001b[43m(\u001b[49m\u001b[38;5;124;43m'\u001b[39;49m\u001b[38;5;124;43mpPlease enter number between 1 to 2\u001b[39;49m\u001b[38;5;124;43m'\u001b[39;49m\u001b[43m)\u001b[49m\u001b[43m)\u001b[49m\n\u001b[1;32m      4\u001b[0m     \u001b[38;5;28;01mif\u001b[39;00m x \u001b[38;5;241m==\u001b[39m computer:\n\u001b[1;32m      5\u001b[0m         scores [i\u001b[38;5;241m+\u001b[39m\u001b[38;5;241m1\u001b[39m] \u001b[38;5;241m=\u001b[39m \u001b[38;5;124m'\u001b[39m\u001b[38;5;124mwin\u001b[39m\u001b[38;5;124m'\u001b[39m\n",
      "\u001b[0;31mValueError\u001b[0m: invalid literal for int() with base 10: ''"
     ]
    }
   ],
   "source": [
    "for i in range(5):\n",
    "    computer = random.randint(1, 2)\n",
    "    x = int(input('pPlease enter number between 1 to 2'))\n",
    "    if x == computer:\n",
    "        scores [i+1] = 'win'\n",
    "        print('you win')\n",
    "    else:\n",
    "        print('you lose')\n",
    "        scores[i+1] = 'lose'"
   ]
  },
  {
   "cell_type": "code",
   "execution_count": null,
   "metadata": {},
   "outputs": [
    {
     "data": {
      "text/plain": [
       "{1: 'lose', 2: 'win', 3: 'lose', 4: 'lose', 5: 'lose'}"
      ]
     },
     "execution_count": 46,
     "metadata": {},
     "output_type": "execute_result"
    }
   ],
   "source": [
    "scores"
   ]
  },
  {
   "cell_type": "code",
   "execution_count": null,
   "metadata": {},
   "outputs": [
    {
     "name": "stdout",
     "output_type": "stream",
     "text": [
      "you win\n",
      "you lose\n",
      "you win\n",
      "you lose\n",
      "you win\n"
     ]
    },
    {
     "data": {
      "text/plain": [
       "{'win': 3, 'lose': 2, 'actual': [1, 1, 1, 2, 1], 'guessed': [1, 2, 1, 22, 1]}"
      ]
     },
     "execution_count": 48,
     "metadata": {},
     "output_type": "execute_result"
    }
   ],
   "source": [
    "scores2 = {'win':0,'lose':0, 'actual':[],'guessed':[]}\n",
    "for i in range(5):\n",
    "    computer = random.randint(1, 2)\n",
    "    x = int(input('pPlease enter number between 1 to 2'))\n",
    "    if x == computer:\n",
    "        scores2['win'] = scores2['win'] + 1\n",
    "        scores2['actual'].append(computer)\n",
    "        scores2['guessed'].append(x)\n",
    "        print('you win')\n",
    "    else:\n",
    "        print('you lose')\n",
    "        scores2['lose'] = scores2['lose'] + 1\n",
    "        scores2['actual'].append(computer)\n",
    "        scores2['guessed'].append(x)\n",
    "scores2"
   ]
  },
  {
   "cell_type": "code",
   "execution_count": null,
   "metadata": {},
   "outputs": [
    {
     "data": {
      "text/plain": [
       "{'win': 3, 'lose': 2, 'actual': [1, 1, 1, 2, 1], 'guessed': [1, 2, 1, 22, 1]}"
      ]
     },
     "execution_count": 49,
     "metadata": {},
     "output_type": "execute_result"
    }
   ],
   "source": [
    "scores2"
   ]
  },
  {
   "cell_type": "code",
   "execution_count": null,
   "metadata": {},
   "outputs": [],
   "source": [
    "#make a simple game in which, run for 5 times, computer will generate random number and user will write randokm numer and print"
   ]
  },
  {
   "cell_type": "code",
   "execution_count": 62,
   "metadata": {},
   "outputs": [],
   "source": [
    "import random"
   ]
  },
  {
   "cell_type": "code",
   "execution_count": 67,
   "metadata": {},
   "outputs": [
    {
     "name": "stdout",
     "output_type": "stream",
     "text": [
      "You entered 1, the computer entered 4\n"
     ]
    }
   ],
   "source": [
    "computer = random.randint(1,5)\n",
    "x = int(input('Enter any number from 1 to 5'))\n",
    "\n",
    "print(f'You entered {x}, the computer entered {computer}')\n",
    "\n"
   ]
  },
  {
   "cell_type": "code",
   "execution_count": 74,
   "metadata": {},
   "outputs": [
    {
     "data": {
      "text/plain": [
       "'rock'"
      ]
     },
     "execution_count": 74,
     "metadata": {},
     "output_type": "execute_result"
    }
   ],
   "source": [
    "asad = ('paper', 'rock', 'scissors')\n",
    "random.choice(asad)"
   ]
  },
  {
   "cell_type": "code",
   "execution_count": 95,
   "metadata": {},
   "outputs": [
    {
     "data": {
      "text/plain": [
       "'white'"
      ]
     },
     "execution_count": 95,
     "metadata": {},
     "output_type": "execute_result"
    }
   ],
   "source": [
    "bottlecolor = ('red', 'orange', 'blue', 'yellow', 'white')\n",
    "random.choice(bottlecolor)"
   ]
  },
  {
   "cell_type": "code",
   "execution_count": 99,
   "metadata": {},
   "outputs": [],
   "source": [
    "# run a loop and print counting from 1 to 10\n",
    "asad_dictionary = {}\n",
    "for i in range(1, 11):\n",
    "    asad_dictionary[i] = random.choice(bottlecolor)"
   ]
  },
  {
   "cell_type": "code",
   "execution_count": 100,
   "metadata": {},
   "outputs": [
    {
     "data": {
      "text/plain": [
       "{1: 'yellow',\n",
       " 2: 'yellow',\n",
       " 3: 'orange',\n",
       " 4: 'white',\n",
       " 5: 'yellow',\n",
       " 6: 'orange',\n",
       " 7: 'white',\n",
       " 8: 'orange',\n",
       " 9: 'blue',\n",
       " 10: 'blue'}"
      ]
     },
     "execution_count": 100,
     "metadata": {},
     "output_type": "execute_result"
    }
   ],
   "source": [
    "asad_dictionary"
   ]
  },
  {
   "cell_type": "code",
   "execution_count": 102,
   "metadata": {},
   "outputs": [],
   "source": [
    "o = ['trial_1','trial_2', 'trial_3', 'trial_4', 'trial_5']\n",
    "# randomly chosing a color for each trual and save in umair_dictionary\n"
   ]
  },
  {
   "cell_type": "code",
   "execution_count": 103,
   "metadata": {},
   "outputs": [],
   "source": [
    "umair_dictionary = {}"
   ]
  },
  {
   "cell_type": "code",
   "execution_count": 106,
   "metadata": {},
   "outputs": [],
   "source": [
    "for each in o:\n",
    "    umair_dictionary[each] = random.choice(bottlecolor)"
   ]
  },
  {
   "cell_type": "code",
   "execution_count": 107,
   "metadata": {},
   "outputs": [
    {
     "data": {
      "text/plain": [
       "{'trial_1': 'yellow',\n",
       " 'trial_2': 'yellow',\n",
       " 'trial_3': 'white',\n",
       " 'trial_4': 'white',\n",
       " 'trial_5': 'yellow'}"
      ]
     },
     "execution_count": 107,
     "metadata": {},
     "output_type": "execute_result"
    }
   ],
   "source": [
    "umair_dictionary"
   ]
  },
  {
   "cell_type": "code",
   "execution_count": 110,
   "metadata": {},
   "outputs": [],
   "source": [
    "# make a simple paper rock sciro game and store result in drioncary\n",
    "#\n"
   ]
  },
  {
   "cell_type": "markdown",
   "metadata": {},
   "source": []
  },
  {
   "cell_type": "code",
   "execution_count": 112,
   "metadata": {},
   "outputs": [],
   "source": [
    "gm = ['paper', 'rock', 'scissors']"
   ]
  },
  {
   "cell_type": "code",
   "execution_count": 118,
   "metadata": {},
   "outputs": [],
   "source": [
    "results = {}\n",
    "for each in o:\n",
    "    computer = random.choice(gm)\n",
    "    user = input(f'Enter your choice for {each} (paper, rock, scissors)')\n",
    "    results[each] = {'computer chose':computer , 'asad chose':user}\n"
   ]
  },
  {
   "cell_type": "code",
   "execution_count": 119,
   "metadata": {},
   "outputs": [
    {
     "data": {
      "text/plain": [
       "{'trial_1': {'computer chose': 'rock', 'asad chose': 'roxk'},\n",
       " 'trial_2': {'computer chose': 'rock', 'asad chose': 'rock'},\n",
       " 'trial_3': {'computer chose': 'paper', 'asad chose': 'rook'},\n",
       " 'trial_4': {'computer chose': 'paper', 'asad chose': 'robk'},\n",
       " 'trial_5': {'computer chose': 'paper', 'asad chose': 'rowk'}}"
      ]
     },
     "execution_count": 119,
     "metadata": {},
     "output_type": "execute_result"
    }
   ],
   "source": [
    "results\n"
   ]
  },
  {
   "cell_type": "code",
   "execution_count": null,
   "metadata": {},
   "outputs": [],
   "source": []
  }
 ],
 "metadata": {
  "kernelspec": {
   "display_name": "Python 3",
   "language": "python",
   "name": "python3"
  },
  "language_info": {
   "codemirror_mode": {
    "name": "ipython",
    "version": 3
   },
   "file_extension": ".py",
   "mimetype": "text/x-python",
   "name": "python",
   "nbconvert_exporter": "python",
   "pygments_lexer": "ipython3",
   "version": "3.11.4"
  }
 },
 "nbformat": 4,
 "nbformat_minor": 2
}
