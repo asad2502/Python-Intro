{
 "cells": [
  {
   "cell_type": "code",
   "execution_count": 36,
   "metadata": {},
   "outputs": [],
   "source": [
    "fc = {'apple': 'red', 'orange': 'orange', 'banana': 'yellow'}"
   ]
  },
  {
   "cell_type": "code",
   "execution_count": 37,
   "metadata": {},
   "outputs": [],
   "source": [
    "fc['mango'] = 'green'"
   ]
  },
  {
   "cell_type": "code",
   "execution_count": 38,
   "metadata": {},
   "outputs": [
    {
     "data": {
      "text/plain": [
       "{'apple': 'red', 'orange': 'orange', 'banana': 'yellow', 'mango': 'green'}"
      ]
     },
     "execution_count": 38,
     "metadata": {},
     "output_type": "execute_result"
    }
   ],
   "source": [
    "fc"
   ]
  },
  {
   "cell_type": "code",
   "execution_count": 39,
   "metadata": {},
   "outputs": [
    {
     "data": {
      "text/plain": [
       "{'apple': 'red', 'orange': 'orange', 'banana': 'yellow'}"
      ]
     },
     "execution_count": 39,
     "metadata": {},
     "output_type": "execute_result"
    }
   ],
   "source": [
    "# delete mango from fc\n",
    "del fc['mango']\n",
    "fc"
   ]
  },
  {
   "cell_type": "code",
   "execution_count": 40,
   "metadata": {},
   "outputs": [],
   "source": [
    "del fc ['orange']\n"
   ]
  },
  {
   "cell_type": "code",
   "execution_count": 41,
   "metadata": {},
   "outputs": [],
   "source": [
    "fc['apple'] ='green'"
   ]
  },
  {
   "cell_type": "code",
   "execution_count": 42,
   "metadata": {},
   "outputs": [
    {
     "data": {
      "text/plain": [
       "{'apple': 'green', 'banana': 'yellow'}"
      ]
     },
     "execution_count": 42,
     "metadata": {},
     "output_type": "execute_result"
    }
   ],
   "source": [
    "fc"
   ]
  },
  {
   "cell_type": "code",
   "execution_count": 43,
   "metadata": {},
   "outputs": [],
   "source": [
    "scores = {}"
   ]
  },
  {
   "cell_type": "code",
   "execution_count": 44,
   "metadata": {},
   "outputs": [],
   "source": [
    "import random"
   ]
  },
  {
   "cell_type": "code",
   "execution_count": 45,
   "metadata": {},
   "outputs": [
    {
     "name": "stdout",
     "output_type": "stream",
     "text": [
      "you lose\n",
      "you win\n",
      "you lose\n",
      "you lose\n",
      "you lose\n"
     ]
    }
   ],
   "source": [
    "for i in range(5):\n",
    "    computer = random.randint(1, 2)\n",
    "    x = int(input('pPlease enter number between 1 to 2'))\n",
    "    if x == computer:\n",
    "        scores [i+1] = 'win'\n",
    "        print('you win')\n",
    "    else:\n",
    "        print('you lose')\n",
    "        scores[i+1] = 'lose'"
   ]
  },
  {
   "cell_type": "code",
   "execution_count": 46,
   "metadata": {},
   "outputs": [
    {
     "data": {
      "text/plain": [
       "{1: 'lose', 2: 'win', 3: 'lose', 4: 'lose', 5: 'lose'}"
      ]
     },
     "execution_count": 46,
     "metadata": {},
     "output_type": "execute_result"
    }
   ],
   "source": [
    "scores"
   ]
  },
  {
   "cell_type": "code",
   "execution_count": 48,
   "metadata": {},
   "outputs": [
    {
     "name": "stdout",
     "output_type": "stream",
     "text": [
      "you win\n",
      "you lose\n",
      "you win\n",
      "you lose\n",
      "you win\n"
     ]
    },
    {
     "data": {
      "text/plain": [
       "{'win': 3, 'lose': 2, 'actual': [1, 1, 1, 2, 1], 'guessed': [1, 2, 1, 22, 1]}"
      ]
     },
     "execution_count": 48,
     "metadata": {},
     "output_type": "execute_result"
    }
   ],
   "source": [
    "scores2 = {'win':0,'lose':0, 'actual':[],'guessed':[]}\n",
    "for i in range(5):\n",
    "    computer = random.randint(1, 2)\n",
    "    x = int(input('pPlease enter number between 1 to 2'))\n",
    "    if x == computer:\n",
    "        scores2['win'] = scores2['win'] + 1\n",
    "        scores2['actual'].append(computer)\n",
    "        scores2['guessed'].append(x)\n",
    "        print('you win')\n",
    "    else:\n",
    "        print('you lose')\n",
    "        scores2['lose'] = scores2['lose'] + 1\n",
    "        scores2['actual'].append(computer)\n",
    "        scores2['guessed'].append(x)\n",
    "scores2"
   ]
  },
  {
   "cell_type": "code",
   "execution_count": 49,
   "metadata": {},
   "outputs": [
    {
     "data": {
      "text/plain": [
       "{'win': 3, 'lose': 2, 'actual': [1, 1, 1, 2, 1], 'guessed': [1, 2, 1, 22, 1]}"
      ]
     },
     "execution_count": 49,
     "metadata": {},
     "output_type": "execute_result"
    }
   ],
   "source": [
    "scores2"
   ]
  },
  {
   "cell_type": "code",
   "execution_count": null,
   "metadata": {},
   "outputs": [],
   "source": []
  }
 ],
 "metadata": {
  "kernelspec": {
   "display_name": "Python 3",
   "language": "python",
   "name": "python3"
  },
  "language_info": {
   "codemirror_mode": {
    "name": "ipython",
    "version": 3
   },
   "file_extension": ".py",
   "mimetype": "text/x-python",
   "name": "python",
   "nbconvert_exporter": "python",
   "pygments_lexer": "ipython3",
   "version": "3.11.4"
  }
 },
 "nbformat": 4,
 "nbformat_minor": 2
}
