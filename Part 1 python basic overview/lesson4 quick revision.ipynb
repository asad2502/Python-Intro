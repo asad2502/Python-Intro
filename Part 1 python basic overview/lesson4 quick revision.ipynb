{
 "cells": [
  {
   "cell_type": "markdown",
   "metadata": {},
   "source": [
    "Hi asad please complete any 7 questions before next session, and the question you will skip we will do in session\n",
    "1. Print even and odd numbers using a for loop:\n",
    "   - Hint: Use the modulo operator `%` to check if a number is even or odd. Example: `if num % 2 == 0`.\n",
    "\n",
    "2. Find 'asad' in a complex dictionary-list structure:\n",
    "   - Hint: Navigate through nested dictionaries and lists using loops and conditions. Example:\n",
    "     ```\n",
    "     complex_structure = {\n",
    "         'key1': ['value1', 'value2', 'value3'],\n",
    "         'key2': {\n",
    "             'subkey1': 'value4',\n",
    "             'subkey2': ['value5', 'value6', 'asad']\n",
    "         }\n",
    "     }\n",
    "     ```\n",
    "\n",
    "3. Print all numbers that are multiples of 5 using a for loop:\n",
    "   - Hint: Use the modulo operator `%` to check for multiples of 5. Example: `if num % 5 == 0`.\n",
    "\n",
    "4. Create a list of fruits and print the last element:\n",
    "   - Hint: Remember that lists in Python are indexed starting from 0. Example: `fruits = ['apple', 'banana', 'orange', 'grape', 'kiwi']`.\n",
    "\n",
    "5. Print all colors that contain the letter 'e':\n",
    "   - Hint: Use a loop to iterate through a list of colors and check each string for the presence of 'e'. Example: `colors = ['red', 'blue', 'green', 'yellow', 'purple', 'orange', 'black', 'white']`.\n",
    "\n",
    "6. Count the number of names that start with 'A' in a list of names:\n",
    "   - Hint: Use a loop and conditional statement to check the first character of each name. Example: `names = ['Alice', 'Bob', 'Anna', 'Alex', 'Amy', 'Brad']`.\n",
    "\n",
    "7. Calculate the sum of all numbers in a nested list:\n",
    "   - Hint: Utilize nested loops to iterate through the elements of the list and sum them up. Example:\n",
    "     ```\n",
    "     nested_list = [\n",
    "         [1, 2, 3],\n",
    "         [4, 5, 6],\n",
    "         [7, 8, 9, 10],\n",
    "         [11, 12, 13, 14, 15]\n",
    "     ]\n",
    "     ```\n",
    "\n",
    "8. Find the maximum number in a list of integers:\n",
    "   - Hint: Initialize a variable to store the maximum value and update it as you iterate through the list. Example: `numbers = [14, 3, 27, 9, 5, 11]`.\n",
    "\n",
    "9. Print all prime numbers between 1 and 50:\n",
    "   - Hint: Use nested loops and a prime-checking function or logic to identify prime numbers. Example: `prime_numbers = [2, 3, 5, 7, 11, 13, 17, 19, 23, 29, 31, 37, 41, 43, 47]`.\n",
    "\n",
    "10. Check if a given word is a palindrome:\n",
    "    - Hint: Compare characters from the beginning and end of the word using indexing and a loop. Example: `word = 'radar'`.Hi asad please complete any 7 questions before next session, and the question you will skip we will do in session\n",
    "1. Print even and odd numbers using a for loop:\n",
    "   - Hint: Use the modulo operator `%` to check if a number is even or odd. Example: `if num % 2 == 0`.\n",
    "\n",
    "2. Find 'asad' in a complex dictionary-list structure:\n",
    "   - Hint: Navigate through nested dictionaries and lists using loops and conditions. Example:\n",
    "     ```\n",
    "     complex_structure = {\n",
    "         'key1': ['value1', 'value2', 'value3'],\n",
    "         'key2': {\n",
    "             'subkey1': 'value4',\n",
    "             'subkey2': ['value5', 'value6', 'asad']\n",
    "         }\n",
    "     }\n",
    "     ```\n",
    "\n",
    "3. Print all numbers that are multiples of 5 using a for loop:\n",
    "   - Hint: Use the modulo operator `%` to check for multiples of 5. Example: `if num % 5 == 0`.\n",
    "\n",
    "4. Create a list of fruits and print the last element:\n",
    "   - Hint: Remember that lists in Python are indexed starting from 0. Example: `fruits = ['apple', 'banana', 'orange', 'grape', 'kiwi']`.\n",
    "\n",
    "5. Print all colors that contain the letter 'e':\n",
    "   - Hint: Use a loop to iterate through a list of colors and check each string for the presence of 'e'. Example: `colors = ['red', 'blue', 'green', 'yellow', 'purple', 'orange', 'black', 'white']`.\n",
    "\n",
    "6. Count the number of names that start with 'A' in a list of names:\n",
    "   - Hint: Use a loop and conditional statement to check the first character of each name. Example: `names = ['Alice', 'Bob', 'Anna', 'Alex', 'Amy', 'Brad']`.\n",
    "\n",
    "7. Calculate the sum of all numbers in a nested list:\n",
    "   - Hint: Utilize nested loops to iterate through the elements of the list and sum them up. Example:\n",
    "     ```\n",
    "     nested_list = [\n",
    "         [1, 2, 3],\n",
    "         [4, 5, 6],\n",
    "         [7, 8, 9, 10],\n",
    "         [11, 12, 13, 14, 15]\n",
    "     ]\n",
    "     ```\n",
    "\n",
    "8. Find the maximum number in a list of integers:\n",
    "   - Hint: Initialize a variable to store the maximum value and update it as you iterate through the list. Example: `numbers = [14, 3, 27, 9, 5, 11]`.\n",
    "\n",
    "9. Print all prime numbers between 1 and 50:\n",
    "   - Hint: Use nested loops and a prime-checking function or logic to identify prime numbers. Example: `prime_numbers = [2, 3, 5, 7, 11, 13, 17, 19, 23, 29, 31, 37, 41, 43, 47]`.\n",
    "\n",
    "10. Check if a given word is a palindrome:\n",
    "    - Hint: Compare characters from the beginning and end of the word using indexing and a loop. Example: `word = 'radar'`."
   ]
  },
  {
   "cell_type": "markdown",
   "metadata": {},
   "source": []
  },
  {
   "cell_type": "code",
   "execution_count": 1,
   "metadata": {},
   "outputs": [],
   "source": [
    "complex_structure = {\n",
    "         'key1': ['value1', 'value2', 'value3'],\n",
    "         'key2': {\n",
    "             'subkey1': 'value4',\n",
    "             'subkey2': ['value5', 'value6', 'asad']\n",
    "         }\n",
    "     }\n"
   ]
  },
  {
   "cell_type": "code",
   "execution_count": 13,
   "metadata": {},
   "outputs": [
    {
     "data": {
      "text/plain": [
       "'asad'"
      ]
     },
     "execution_count": 13,
     "metadata": {},
     "output_type": "execute_result"
    }
   ],
   "source": [
    "complex_structure ['key2'] ['subkey2'][2]"
   ]
  },
  {
   "cell_type": "code",
   "execution_count": 3,
   "metadata": {},
   "outputs": [],
   "source": [
    "# 1 data types \n",
    "# int , float and string + "
   ]
  },
  {
   "cell_type": "code",
   "execution_count": 4,
   "metadata": {},
   "outputs": [
    {
     "data": {
      "text/plain": [
       "'asad'"
      ]
     },
     "execution_count": 4,
     "metadata": {},
     "output_type": "execute_result"
    }
   ],
   "source": [
    "\"asad\""
   ]
  },
  {
   "cell_type": "code",
   "execution_count": 5,
   "metadata": {},
   "outputs": [],
   "source": [
    "d = {'name1':'asad'}"
   ]
  },
  {
   "cell_type": "code",
   "execution_count": 7,
   "metadata": {},
   "outputs": [
    {
     "data": {
      "text/plain": [
       "'asad'"
      ]
     },
     "execution_count": 7,
     "metadata": {},
     "output_type": "execute_result"
    }
   ],
   "source": [
    "d['name1']"
   ]
  },
  {
   "cell_type": "code",
   "execution_count": 14,
   "metadata": {},
   "outputs": [],
   "source": [
    "data_list = [\n",
    "    {\n",
    "        'key1': ['value1', 'value2', 'value3'],\n",
    "        'key2': {\n",
    "            'subkey1': 'value4',\n",
    "            'subkey2': ['value5', 'value6', 'John']\n",
    "        }\n",
    "    },\n",
    "    {\n",
    "        'key1': ['value8', 'value9', 'value10'],\n",
    "        'key2': {\n",
    "            'subkey1': 'value11',\n",
    "            'subkey2': ['value12', 'value13', 'Emily']\n",
    "        }\n",
    "    },\n",
    "    {\n",
    "        'key1': ['value15', 'value16', 'value17'],\n",
    "        'key2': {\n",
    "            'subkey1': 'value18',\n",
    "            'subkey2': ['value19', 'value20', 'Michael']\n",
    "        }\n",
    "    },\n",
    "    {\n",
    "        'key1': ['value22', 'value23', 'value24'],\n",
    "        'key2': {\n",
    "            'subkey1': 'value25',\n",
    "            'subkey2': ['value26', 'value27', 'Sarah']\n",
    "        }\n",
    "    },\n",
    "    {\n",
    "        'key1': ['value29', 'value30', 'value31'],\n",
    "        'key2': {\n",
    "            'subkey1': 'value32',\n",
    "            'subkey2': ['value33', 'value34', 'David']\n",
    "        }\n",
    "    },\n",
    "    {\n",
    "        'key1': ['value36', 'value37', 'value38'],\n",
    "        'key2': {\n",
    "            'subkey1': 'value39',\n",
    "            'subkey2': ['value40', 'value41', 'Jessica']\n",
    "        }\n",
    "    },\n",
    "    {\n",
    "        'key1': ['value43', 'value44', 'value45'],\n",
    "        'key2': {\n",
    "            'subkey1': 'value46',\n",
    "            'subkey2': ['value47', 'value48', 'Daniel']\n",
    "        }\n",
    "    },\n",
    "    {\n",
    "        'key1': ['value50', 'value51', 'value52'],\n",
    "        'key2': {\n",
    "            'subkey1': 'value53',\n",
    "            'subkey2': ['value54', 'value55', 'Emma']\n",
    "        }\n",
    "    },\n",
    "    {\n",
    "        'key1': ['value57', 'value58', 'value59'],\n",
    "        'key2': {\n",
    "            'subkey1': 'value60',\n",
    "            'subkey2': ['value61', 'value62', 'Christopher']\n",
    "        }\n",
    "    },\n",
    "    {\n",
    "        'key1': ['value64', 'value65', 'value66'],\n",
    "        'key2': {\n",
    "            'subkey1': 'value67',\n",
    "            'subkey2': ['value68', 'value69', 'Sophia']\n",
    "        }\n",
    "    }\n",
    "]\n",
    "\n"
   ]
  },
  {
   "cell_type": "code",
   "execution_count": 19,
   "metadata": {},
   "outputs": [],
   "source": [
    "y=[]# empty\n",
    "for asad in data_list :\n",
    "    x = asad['key2'] ['subkey2'][2]\n",
    "    y.append(x)\n",
    "    "
   ]
  },
  {
   "cell_type": "code",
   "execution_count": 20,
   "metadata": {},
   "outputs": [
    {
     "data": {
      "text/plain": [
       "['John',\n",
       " 'Emily',\n",
       " 'Michael',\n",
       " 'Sarah',\n",
       " 'David',\n",
       " 'Jessica',\n",
       " 'Daniel',\n",
       " 'Emma',\n",
       " 'Christopher',\n",
       " 'Sophia']"
      ]
     },
     "execution_count": 20,
     "metadata": {},
     "output_type": "execute_result"
    }
   ],
   "source": [
    "y"
   ]
  },
  {
   "cell_type": "code",
   "execution_count": null,
   "metadata": {},
   "outputs": [],
   "source": []
  },
  {
   "cell_type": "code",
   "execution_count": null,
   "metadata": {},
   "outputs": [],
   "source": []
  },
  {
   "cell_type": "code",
   "execution_count": 22,
   "metadata": {},
   "outputs": [
    {
     "name": "stdout",
     "output_type": "stream",
     "text": [
      "['John', 'Emily', 'Michael', 'Sarah', 'David', 'Jessica', 'Daniel', 'Emma', 'Christopher', 'Sophia']\n"
     ]
    }
   ],
   "source": [
    "print(y)"
   ]
  },
  {
   "cell_type": "code",
   "execution_count": 23,
   "metadata": {},
   "outputs": [],
   "source": [
    "# make a list of name and country code"
   ]
  },
  {
   "cell_type": "code",
   "execution_count": 28,
   "metadata": {},
   "outputs": [],
   "source": [
    "countrycode = ['Pakistan', 92,'Indonesia', 62]"
   ]
  },
  {
   "cell_type": "code",
   "execution_count": 29,
   "metadata": {},
   "outputs": [],
   "source": [
    "cc = [   ['pak',92] ,['ind',62]    ]"
   ]
  },
  {
   "cell_type": "code",
   "execution_count": null,
   "metadata": {},
   "outputs": [],
   "source": [
    "dd = {'pak':92,'ind':62}"
   ]
  },
  {
   "cell_type": "code",
   "execution_count": 30,
   "metadata": {},
   "outputs": [],
   "source": [
    "# yeh list ha, ya dic, ya set ha ya , tuple, data  structure"
   ]
  },
  {
   "cell_type": "code",
   "execution_count": 31,
   "metadata": {},
   "outputs": [],
   "source": [
    "# data types\n",
    "# data structures"
   ]
  },
  {
   "cell_type": "code",
   "execution_count": 32,
   "metadata": {},
   "outputs": [],
   "source": [
    "p = [100,200,300,400,['a','b','c','d','e'],600,700,800]"
   ]
  },
  {
   "cell_type": "code",
   "execution_count": null,
   "metadata": {},
   "outputs": [],
   "source": []
  }
 ],
 "metadata": {
  "kernelspec": {
   "display_name": "Python 3",
   "language": "python",
   "name": "python3"
  },
  "language_info": {
   "codemirror_mode": {
    "name": "ipython",
    "version": 3
   },
   "file_extension": ".py",
   "mimetype": "text/x-python",
   "name": "python",
   "nbconvert_exporter": "python",
   "pygments_lexer": "ipython3",
   "version": "3.11.4"
  }
 },
 "nbformat": 4,
 "nbformat_minor": 2
}
