{
 "cells": [
  {
   "cell_type": "code",
   "execution_count": 312,
   "metadata": {},
   "outputs": [
    {
     "data": {
      "text/plain": [
       "1"
      ]
     },
     "execution_count": 312,
     "metadata": {},
     "output_type": "execute_result"
    }
   ],
   "source": [
    "# data structure\n",
    "# list\n",
    "x = [1,2,3,4,5,6,7,8,9,10]\n",
    "# acess , indexing\n",
    "x[0]"
   ]
  },
  {
   "cell_type": "code",
   "execution_count": 313,
   "metadata": {},
   "outputs": [
    {
     "data": {
      "text/plain": [
       "10"
      ]
     },
     "execution_count": 313,
     "metadata": {},
     "output_type": "execute_result"
    }
   ],
   "source": [
    "x[9]"
   ]
  },
  {
   "cell_type": "code",
   "execution_count": 314,
   "metadata": {},
   "outputs": [
    {
     "name": "stdout",
     "output_type": "stream",
     "text": [
      "['banana', 'apple', 'mango']\n"
     ]
    }
   ],
   "source": [
    "# list of fruits 3 \n",
    "fruits = ['banana', 'apple', 'mango']\n",
    "print(fruits)"
   ]
  },
  {
   "cell_type": "code",
   "execution_count": 315,
   "metadata": {},
   "outputs": [],
   "source": [
    "colors = ['red', 'yellow', 'blue', 'green', 'orange']"
   ]
  },
  {
   "cell_type": "code",
   "execution_count": 316,
   "metadata": {},
   "outputs": [],
   "source": [
    "# random variable, choose randly using indexing\n",
    "import random "
   ]
  },
  {
   "cell_type": "code",
   "execution_count": 317,
   "metadata": {},
   "outputs": [
    {
     "data": {
      "text/plain": [
       "'blue'"
      ]
     },
     "execution_count": 317,
     "metadata": {},
     "output_type": "execute_result"
    }
   ],
   "source": [
    "i = random.randint(0,4)\n",
    "colors[i]"
   ]
  },
  {
   "cell_type": "code",
   "execution_count": 318,
   "metadata": {},
   "outputs": [
    {
     "data": {
      "text/plain": [
       "['red', 'yellow']"
      ]
     },
     "execution_count": 318,
     "metadata": {},
     "output_type": "execute_result"
    }
   ],
   "source": [
    "# slicing \n",
    "colors[0:2]"
   ]
  },
  {
   "cell_type": "code",
   "execution_count": 319,
   "metadata": {},
   "outputs": [
    {
     "data": {
      "text/plain": [
       "['blue', 'green']"
      ]
     },
     "execution_count": 319,
     "metadata": {},
     "output_type": "execute_result"
    }
   ],
   "source": [
    "colors[2:4]"
   ]
  },
  {
   "cell_type": "code",
   "execution_count": 320,
   "metadata": {},
   "outputs": [],
   "source": [
    "# if i want o add something, add at the end\n",
    "colors.append('purple')"
   ]
  },
  {
   "cell_type": "code",
   "execution_count": 321,
   "metadata": {},
   "outputs": [
    {
     "data": {
      "text/plain": [
       "['red', 'yellow', 'blue', 'green', 'orange', 'purple']"
      ]
     },
     "execution_count": 321,
     "metadata": {},
     "output_type": "execute_result"
    }
   ],
   "source": [
    "colors"
   ]
  },
  {
   "cell_type": "code",
   "execution_count": 322,
   "metadata": {},
   "outputs": [],
   "source": [
    "colors.append('black')"
   ]
  },
  {
   "cell_type": "code",
   "execution_count": 323,
   "metadata": {},
   "outputs": [
    {
     "data": {
      "text/plain": [
       "['red', 'yellow', 'blue', 'green', 'orange', 'purple', 'black']"
      ]
     },
     "execution_count": 323,
     "metadata": {},
     "output_type": "execute_result"
    }
   ],
   "source": [
    "colors"
   ]
  },
  {
   "cell_type": "code",
   "execution_count": 324,
   "metadata": {},
   "outputs": [],
   "source": [
    "# insert\n",
    "colors.insert(2,'pink')"
   ]
  },
  {
   "cell_type": "code",
   "execution_count": 325,
   "metadata": {},
   "outputs": [
    {
     "data": {
      "text/plain": [
       "['red', 'yellow', 'pink', 'blue', 'green', 'orange', 'purple', 'black']"
      ]
     },
     "execution_count": 325,
     "metadata": {},
     "output_type": "execute_result"
    }
   ],
   "source": [
    "colors"
   ]
  },
  {
   "cell_type": "code",
   "execution_count": 326,
   "metadata": {},
   "outputs": [],
   "source": [
    "colors.insert(5,'white')"
   ]
  },
  {
   "cell_type": "code",
   "execution_count": 327,
   "metadata": {},
   "outputs": [
    {
     "data": {
      "text/plain": [
       "['red',\n",
       " 'yellow',\n",
       " 'pink',\n",
       " 'blue',\n",
       " 'green',\n",
       " 'white',\n",
       " 'orange',\n",
       " 'purple',\n",
       " 'black']"
      ]
     },
     "execution_count": 327,
     "metadata": {},
     "output_type": "execute_result"
    }
   ],
   "source": [
    "colors"
   ]
  },
  {
   "cell_type": "code",
   "execution_count": 328,
   "metadata": {},
   "outputs": [],
   "source": [
    "# if we want ot replace"
   ]
  },
  {
   "cell_type": "code",
   "execution_count": 329,
   "metadata": {},
   "outputs": [],
   "source": [
    "colors[0] = 'brown'\n"
   ]
  },
  {
   "cell_type": "code",
   "execution_count": 330,
   "metadata": {},
   "outputs": [
    {
     "data": {
      "text/plain": [
       "['brown',\n",
       " 'yellow',\n",
       " 'pink',\n",
       " 'blue',\n",
       " 'green',\n",
       " 'white',\n",
       " 'orange',\n",
       " 'purple',\n",
       " 'black']"
      ]
     },
     "execution_count": 330,
     "metadata": {},
     "output_type": "execute_result"
    }
   ],
   "source": [
    "colors"
   ]
  },
  {
   "cell_type": "code",
   "execution_count": 331,
   "metadata": {},
   "outputs": [],
   "source": [
    "del colors[2:5]"
   ]
  },
  {
   "cell_type": "code",
   "execution_count": 332,
   "metadata": {},
   "outputs": [
    {
     "data": {
      "text/plain": [
       "['brown', 'yellow', 'white', 'orange', 'purple', 'black']"
      ]
     },
     "execution_count": 332,
     "metadata": {},
     "output_type": "execute_result"
    }
   ],
   "source": [
    "colors"
   ]
  },
  {
   "cell_type": "code",
   "execution_count": 333,
   "metadata": {},
   "outputs": [
    {
     "data": {
      "text/plain": [
       "['brown', 'yellow', 'white', 'orange', 'purple', 'black']"
      ]
     },
     "execution_count": 333,
     "metadata": {},
     "output_type": "execute_result"
    }
   ],
   "source": [
    "colors"
   ]
  },
  {
   "cell_type": "code",
   "execution_count": 334,
   "metadata": {},
   "outputs": [
    {
     "data": {
      "text/plain": [
       "True"
      ]
     },
     "execution_count": 334,
     "metadata": {},
     "output_type": "execute_result"
    }
   ],
   "source": [
    "# to test if something is in list\n",
    "'apple' in fruits"
   ]
  },
  {
   "cell_type": "code",
   "execution_count": 335,
   "metadata": {},
   "outputs": [],
   "source": [
    "p = 'orange'\n"
   ]
  },
  {
   "cell_type": "code",
   "execution_count": 336,
   "metadata": {},
   "outputs": [
    {
     "data": {
      "text/plain": [
       "True"
      ]
     },
     "execution_count": 336,
     "metadata": {},
     "output_type": "execute_result"
    }
   ],
   "source": [
    "p in colors"
   ]
  },
  {
   "cell_type": "code",
   "execution_count": 337,
   "metadata": {},
   "outputs": [
    {
     "data": {
      "text/plain": [
       "['beautiful-brown',\n",
       " 'beautiful-yellow',\n",
       " 'beautiful-white',\n",
       " 'beautiful-orange',\n",
       " 'beautiful-purple',\n",
       " 'beautiful-black']"
      ]
     },
     "execution_count": 337,
     "metadata": {},
     "output_type": "execute_result"
    }
   ],
   "source": [
    "# list comprehension\n",
    "['beautiful-'+i for i in colors]"
   ]
  },
  {
   "cell_type": "code",
   "execution_count": 338,
   "metadata": {},
   "outputs": [
    {
     "data": {
      "text/plain": [
       "['purple']"
      ]
     },
     "execution_count": 338,
     "metadata": {},
     "output_type": "execute_result"
    }
   ],
   "source": [
    "[i for i in colors if i.startswith('p')]"
   ]
  },
  {
   "cell_type": "code",
   "execution_count": 339,
   "metadata": {},
   "outputs": [
    {
     "data": {
      "text/plain": [
       "[1, 2, 3, 4]"
      ]
     },
     "execution_count": 339,
     "metadata": {},
     "output_type": "execute_result"
    }
   ],
   "source": [
    "[i for i in x if i<5]#"
   ]
  },
  {
   "cell_type": "code",
   "execution_count": 340,
   "metadata": {},
   "outputs": [
    {
     "name": "stdout",
     "output_type": "stream",
     "text": [
      "1\n",
      "2\n",
      "3\n",
      "4\n"
     ]
    }
   ],
   "source": [
    "new_list = []\n",
    "for i in x:\n",
    "    if i <5:\n",
    "        print(i)\n",
    "        new_list.append(i)\n",
    "        "
   ]
  },
  {
   "cell_type": "code",
   "execution_count": 341,
   "metadata": {},
   "outputs": [
    {
     "data": {
      "text/plain": [
       "[1, 2, 3, 4]"
      ]
     },
     "execution_count": 341,
     "metadata": {},
     "output_type": "execute_result"
    }
   ],
   "source": [
    "new_list"
   ]
  },
  {
   "cell_type": "code",
   "execution_count": 342,
   "metadata": {},
   "outputs": [
    {
     "name": "stdout",
     "output_type": "stream",
     "text": [
      "hello\n"
     ]
    }
   ],
   "source": [
    "# tuple\n",
    "# change nae hota\n",
    "p = ('hello','welcome','bye')\n",
    "print(p[0])"
   ]
  },
  {
   "cell_type": "code",
   "execution_count": 343,
   "metadata": {},
   "outputs": [],
   "source": [
    "# slcing will also work"
   ]
  },
  {
   "cell_type": "code",
   "execution_count": 344,
   "metadata": {},
   "outputs": [
    {
     "ename": "TypeError",
     "evalue": "'tuple' object does not support item assignment",
     "output_type": "error",
     "traceback": [
      "\u001b[0;31m---------------------------------------------------------------------------\u001b[0m",
      "\u001b[0;31mTypeError\u001b[0m                                 Traceback (most recent call last)",
      "Cell \u001b[0;32mIn[344], line 1\u001b[0m\n\u001b[0;32m----> 1\u001b[0m \u001b[43mp\u001b[49m\u001b[43m[\u001b[49m\u001b[38;5;241;43m0\u001b[39;49m\u001b[43m]\u001b[49m \u001b[38;5;241m=\u001b[39m \u001b[38;5;124m'\u001b[39m\u001b[38;5;124mhow ar eyou\u001b[39m\u001b[38;5;124m'\u001b[39m\n",
      "\u001b[0;31mTypeError\u001b[0m: 'tuple' object does not support item assignment"
     ]
    }
   ],
   "source": [
    "p[0] = 'how ar eyou'"
   ]
  },
  {
   "cell_type": "code",
   "execution_count": null,
   "metadata": {},
   "outputs": [
    {
     "data": {
      "text/plain": [
       "{1, 2, 3, 4}"
      ]
     },
     "execution_count": 160,
     "metadata": {},
     "output_type": "execute_result"
    }
   ],
   "source": [
    "# we ignore set\n",
    "s = {1,2,3}\n",
    "w = {2,3,4}\n",
    "s.union(w)"
   ]
  },
  {
   "cell_type": "code",
   "execution_count": null,
   "metadata": {},
   "outputs": [
    {
     "data": {
      "text/plain": [
       "{2, 3}"
      ]
     },
     "execution_count": 161,
     "metadata": {},
     "output_type": "execute_result"
    }
   ],
   "source": [
    "s.intersection(w)"
   ]
  },
  {
   "cell_type": "code",
   "execution_count": null,
   "metadata": {},
   "outputs": [],
   "source": [
    "# no indexing , no slicing, "
   ]
  },
  {
   "cell_type": "code",
   "execution_count": null,
   "metadata": {},
   "outputs": [],
   "source": [
    "# cast it to list and do somethign and change back"
   ]
  },
  {
   "cell_type": "code",
   "execution_count": null,
   "metadata": {},
   "outputs": [],
   "source": [
    "p2 = list(p)"
   ]
  },
  {
   "cell_type": "code",
   "execution_count": null,
   "metadata": {},
   "outputs": [],
   "source": [
    "p2[0] = 'hi'"
   ]
  },
  {
   "cell_type": "code",
   "execution_count": null,
   "metadata": {},
   "outputs": [
    {
     "data": {
      "text/plain": [
       "['hi', 'welcome', 'bye']"
      ]
     },
     "execution_count": 168,
     "metadata": {},
     "output_type": "execute_result"
    }
   ],
   "source": [
    "p2"
   ]
  },
  {
   "cell_type": "code",
   "execution_count": null,
   "metadata": {},
   "outputs": [],
   "source": [
    "p = tuple(p2)"
   ]
  },
  {
   "cell_type": "code",
   "execution_count": null,
   "metadata": {},
   "outputs": [
    {
     "data": {
      "text/plain": [
       "('hi', 'welcome', 'bye')"
      ]
     },
     "execution_count": 170,
     "metadata": {},
     "output_type": "execute_result"
    }
   ],
   "source": [
    "p"
   ]
  },
  {
   "cell_type": "code",
   "execution_count": null,
   "metadata": {},
   "outputs": [],
   "source": [
    "# dictionary!"
   ]
  },
  {
   "cell_type": "code",
   "execution_count": null,
   "metadata": {},
   "outputs": [],
   "source": [
    "#   indexing you can make yourself/"
   ]
  },
  {
   "cell_type": "code",
   "execution_count": null,
   "metadata": {},
   "outputs": [],
   "source": [
    "asad = {  1:'red',  0:'apple',100:'orange'  ,'apple':'red'   } # mapping based"
   ]
  },
  {
   "cell_type": "code",
   "execution_count": null,
   "metadata": {},
   "outputs": [
    {
     "data": {
      "text/plain": [
       "dict"
      ]
     },
     "execution_count": 183,
     "metadata": {},
     "output_type": "execute_result"
    }
   ],
   "source": [
    "type(asad)"
   ]
  },
  {
   "cell_type": "code",
   "execution_count": null,
   "metadata": {},
   "outputs": [
    {
     "data": {
      "text/plain": [
       "list"
      ]
     },
     "execution_count": 184,
     "metadata": {},
     "output_type": "execute_result"
    }
   ],
   "source": [
    "type(colors)"
   ]
  },
  {
   "cell_type": "code",
   "execution_count": null,
   "metadata": {},
   "outputs": [
    {
     "data": {
      "text/plain": [
       "'apple'"
      ]
     },
     "execution_count": 185,
     "metadata": {},
     "output_type": "execute_result"
    }
   ],
   "source": [
    "asad[0]"
   ]
  },
  {
   "cell_type": "code",
   "execution_count": null,
   "metadata": {},
   "outputs": [],
   "source": []
  },
  {
   "cell_type": "code",
   "execution_count": null,
   "metadata": {},
   "outputs": [],
   "source": [
    "# ma?ke a dictionary with fruits and their color"
   ]
  },
  {
   "cell_type": "code",
   "execution_count": null,
   "metadata": {},
   "outputs": [],
   "source": [
    "fruitsandcolors = { 'red':'apple', 'orange':'mango', 'yellow':'banana'}"
   ]
  },
  {
   "cell_type": "code",
   "execution_count": null,
   "metadata": {},
   "outputs": [
    {
     "data": {
      "text/plain": [
       "dict_keys(['red', 'orange', 'yellow'])"
      ]
     },
     "execution_count": 189,
     "metadata": {},
     "output_type": "execute_result"
    }
   ],
   "source": [
    "fruitsandcolors.keys()"
   ]
  },
  {
   "cell_type": "code",
   "execution_count": null,
   "metadata": {},
   "outputs": [
    {
     "data": {
      "text/plain": [
       "dict_values(['apple', 'mango', 'banana'])"
      ]
     },
     "execution_count": 190,
     "metadata": {},
     "output_type": "execute_result"
    }
   ],
   "source": [
    "fruitsandcolors.values()"
   ]
  },
  {
   "cell_type": "code",
   "execution_count": null,
   "metadata": {},
   "outputs": [
    {
     "data": {
      "text/plain": [
       "dict_items([('red', 'apple'), ('orange', 'mango'), ('yellow', 'banana')])"
      ]
     },
     "execution_count": 191,
     "metadata": {},
     "output_type": "execute_result"
    }
   ],
   "source": [
    "fruitsandcolors.items()"
   ]
  },
  {
   "cell_type": "code",
   "execution_count": null,
   "metadata": {},
   "outputs": [],
   "source": [
    "# we can store one data structure to another data structure"
   ]
  },
  {
   "cell_type": "code",
   "execution_count": null,
   "metadata": {},
   "outputs": [],
   "source": [
    "x = ['orange' , ['mango','strawberry']] "
   ]
  },
  {
   "cell_type": "code",
   "execution_count": null,
   "metadata": {},
   "outputs": [
    {
     "data": {
      "text/plain": [
       "'strawberry'"
      ]
     },
     "execution_count": 196,
     "metadata": {},
     "output_type": "execute_result"
    }
   ],
   "source": [
    "x[1][1]"
   ]
  },
  {
   "cell_type": "code",
   "execution_count": null,
   "metadata": {},
   "outputs": [],
   "source": [
    "d = {'red':['apple','strawbeery','cherry']  ,'mango':'green' }"
   ]
  },
  {
   "cell_type": "code",
   "execution_count": null,
   "metadata": {},
   "outputs": [
    {
     "data": {
      "text/plain": [
       "{'red': ['apple', 'strawbeery', 'cherry'], 'mango': 'green'}"
      ]
     },
     "execution_count": 198,
     "metadata": {},
     "output_type": "execute_result"
    }
   ],
   "source": [
    "d"
   ]
  },
  {
   "cell_type": "code",
   "execution_count": null,
   "metadata": {},
   "outputs": [
    {
     "name": "stdout",
     "output_type": "stream",
     "text": [
      "the color of apple are red, yellow, and green. \n",
      "the color of mango are greeen, yellow, and orange. \n",
      "the color of banana are yellow, green, and black. \n"
     ]
    }
   ],
   "source": [
    "p = {'apple': ['red','yellow','green'] ,'mango':['greeen','yellow','orange'] ,'banana':['yellow','green','black'] }\n",
    "\n",
    "for a,b in p.items():\n",
    "\n",
    "    print(f'the color of {a} are',end=' ')\n",
    "    l = len(b)\n",
    "    i = 1\n",
    "    for c in b:\n",
    "        if i < l:\n",
    "            print(f'{c},',end=' ')\n",
    "        else:\n",
    "            print(f'and {c}.',end=' ')\n",
    "        i = i + 1\n",
    "    i = 1\n",
    "    print()"
   ]
  },
  {
   "cell_type": "code",
   "execution_count": null,
   "metadata": {},
   "outputs": [
    {
     "name": "stdout",
     "output_type": "stream",
     "text": [
      "the color of car are sedan, SUV, and hatchback. \n",
      "the color of bicycle are mountain, road, and hybrid. \n",
      "the color of motorcycle are cruiser, sport, and touring. \n",
      "the color of airplane are jet, propeller, and glider. \n",
      "the color of boat are sailboat, motorboat, and yacht. \n",
      "the color of train are freight, passenger, and high-speed. \n",
      "the color of helicopter are military, civilian, and rescue. \n",
      "the color of spaceship are shuttle, capsule, and lander. \n",
      "the color of bus are city, school, and tour. \n",
      "the color of truck are pickup, semi, and dump. \n",
      "the color of scooter are electric, kick, and gas. \n",
      "the color of skateboard are longboard, shortboard, and electric. \n",
      "the color of submarine are attack, ballistic, and research. \n",
      "the color of hovercraft are personal, commercial, and military. \n",
      "the color of tram are light rail, streetcar, and trolley. \n"
     ]
    }
   ],
   "source": [
    "q = {\n",
    "    'apple': ['red', 'yellow', 'green'],\n",
    "    'mango': ['green', 'yellow', 'orange'],\n",
    "    'banana': ['yellow', 'green', 'black'],\n",
    "    'grape': ['purple', 'green', 'red'],\n",
    "    'orange': ['orange', 'yellow', 'green'],\n",
    "    'strawberry': ['red', 'green', 'white'],\n",
    "    'blueberry': ['blue', 'purple', 'red'],\n",
    "    'kiwi': ['green', 'brown', 'yellow'],\n",
    "    'pear': ['green', 'yellow', 'brown'],\n",
    "    'peach': ['yellow', 'pink', 'orange'],\n",
    "    'plum': ['purple', 'red', 'yellow'],\n",
    "    'watermelon': ['green', 'red', 'yellow'],\n",
    "    'pineapple': ['brown', 'green', 'yellow'],\n",
    "    'cherry': ['red', 'yellow', 'black'],\n",
    "    'lemon': ['yellow', 'green', 'light green'],\n",
    "    'lime': ['green', 'yellow', 'dark green']\n",
    "}\n",
    "\n",
    "\n",
    "\n",
    "for a,b in p.items():\n",
    "\n",
    "    print(f'the color of {a} are',end=' ')\n",
    "    l = len(b)\n",
    "    i = 1\n",
    "    for c in b:\n",
    "        if i < l:\n",
    "            print(f'{c},',end=' ')\n",
    "        else:\n",
    "            print(f'and {c}.',end=' ')\n",
    "        i = i + 1\n",
    "    i = 1\n",
    "    print()"
   ]
  },
  {
   "cell_type": "code",
   "execution_count": null,
   "metadata": {},
   "outputs": [],
   "source": [
    "# we do not need to write code again and again\n",
    "\n",
    "def asad (p,t):\n",
    "    for a,b in p.items():\n",
    "\n",
    "        print(f'the {t} of {a} are',end=' ')\n",
    "        l = len(b)\n",
    "        i = 1\n",
    "        for c in b:\n",
    "            if i < l:\n",
    "                print(f'{c},',end=' ')\n",
    "            else:\n",
    "                print(f'and {c}.',end=' ')\n",
    "            i = i + 1\n",
    "        i = 1\n",
    "        print()"
   ]
  },
  {
   "cell_type": "code",
   "execution_count": null,
   "metadata": {},
   "outputs": [
    {
     "name": "stdout",
     "output_type": "stream",
     "text": [
      "the type of car are sedan, SUV, and hatchback. \n",
      "the type of bicycle are mountain, road, and hybrid. \n",
      "the type of motorcycle are cruiser, sport, and touring. \n",
      "the type of airplane are jet, propeller, and glider. \n",
      "the type of boat are sailboat, motorboat, and yacht. \n",
      "the type of train are freight, passenger, and high-speed. \n",
      "the type of helicopter are military, civilian, and rescue. \n",
      "the type of spaceship are shuttle, capsule, and lander. \n",
      "the type of bus are city, school, and tour. \n",
      "the type of truck are pickup, semi, and dump. \n",
      "the type of scooter are electric, kick, and gas. \n",
      "the type of skateboard are longboard, shortboard, and electric. \n",
      "the type of submarine are attack, ballistic, and research. \n",
      "the type of hovercraft are personal, commercial, and military. \n",
      "the type of tram are light rail, streetcar, and trolley. \n"
     ]
    }
   ],
   "source": [
    "p = {\n",
    "    'car': ['sedan', 'SUV', 'hatchback'],\n",
    "    'bicycle': ['mountain', 'road', 'hybrid'],\n",
    "    'motorcycle': ['cruiser', 'sport', 'touring'],\n",
    "    'airplane': ['jet', 'propeller', 'glider'],\n",
    "    'boat': ['sailboat', 'motorboat', 'yacht'],\n",
    "    'train': ['freight', 'passenger', 'high-speed'],\n",
    "    'helicopter': ['military', 'civilian', 'rescue'],\n",
    "    'spaceship': ['shuttle', 'capsule', 'lander'],\n",
    "    'bus': ['city', 'school', 'tour'],\n",
    "    'truck': ['pickup', 'semi', 'dump'],\n",
    "    'scooter': ['electric', 'kick', 'gas'],\n",
    "    'skateboard': ['longboard', 'shortboard', 'electric'],\n",
    "    'submarine': ['attack', 'ballistic', 'research'],\n",
    "    'hovercraft': ['personal', 'commercial', 'military'],\n",
    "    'tram': ['light rail', 'streetcar', 'trolley']\n",
    "}\n",
    "\n",
    "\n",
    "asad(p,'type')"
   ]
  },
  {
   "cell_type": "code",
   "execution_count": null,
   "metadata": {},
   "outputs": [
    {
     "name": "stdout",
     "output_type": "stream",
     "text": [
      "the models of car are sedan, SUV, and hatchback. \n",
      "the models of bicycle are mountain, road, and hybrid. \n",
      "the models of motorcycle are cruiser, sport, and touring. \n",
      "the models of airplane are jet, propeller, and glider. \n",
      "the models of boat are sailboat, motorboat, and yacht. \n",
      "the models of train are freight, passenger, and high-speed. \n",
      "the models of helicopter are military, civilian, and rescue. \n",
      "the models of spaceship are shuttle, capsule, and lander. \n",
      "the models of bus are city, school, and tour. \n",
      "the models of truck are pickup, semi, and dump. \n",
      "the models of scooter are electric, kick, and gas. \n",
      "the models of skateboard are longboard, shortboard, and electric. \n",
      "the models of submarine are attack, ballistic, and research. \n",
      "the models of hovercraft are personal, commercial, and military. \n",
      "the models of tram are light rail, streetcar, and trolley. \n"
     ]
    }
   ],
   "source": [
    "asad(p,'models')"
   ]
  },
  {
   "cell_type": "code",
   "execution_count": null,
   "metadata": {},
   "outputs": [],
   "source": [
    "# when we have to add soemthign to our dictionary"
   ]
  },
  {
   "cell_type": "code",
   "execution_count": null,
   "metadata": {},
   "outputs": [],
   "source": [
    "# make a simple dictonary , animal and their legs"
   ]
  },
  {
   "cell_type": "code",
   "execution_count": null,
   "metadata": {},
   "outputs": [],
   "source": [
    "animals = {'cat': (4), 'snake': (0), 'humans': (2)}"
   ]
  },
  {
   "cell_type": "code",
   "execution_count": null,
   "metadata": {},
   "outputs": [
    {
     "name": "stdout",
     "output_type": "stream",
     "text": [
      "can i go to the bathroom\n"
     ]
    }
   ],
   "source": [
    "print('can i go to the bathroom')"
   ]
  },
  {
   "cell_type": "code",
   "execution_count": null,
   "metadata": {},
   "outputs": [
    {
     "name": "stdout",
     "output_type": "stream",
     "text": [
      "{'cat': 4, 'snake': 0, 'humans': 2}\n"
     ]
    }
   ],
   "source": [
    "print(animals)"
   ]
  },
  {
   "cell_type": "code",
   "execution_count": null,
   "metadata": {},
   "outputs": [],
   "source": [
    "animals['spider'] = 8"
   ]
  },
  {
   "cell_type": "code",
   "execution_count": null,
   "metadata": {},
   "outputs": [
    {
     "data": {
      "text/plain": [
       "{'cat': 4, 'snake': 0, 'humans': 2, 'monkey': 2, 'spider': 8}"
      ]
     },
     "execution_count": 287,
     "metadata": {},
     "output_type": "execute_result"
    }
   ],
   "source": [
    "animals "
   ]
  },
  {
   "cell_type": "code",
   "execution_count": null,
   "metadata": {},
   "outputs": [],
   "source": [
    "del animals['cat']"
   ]
  },
  {
   "cell_type": "code",
   "execution_count": null,
   "metadata": {},
   "outputs": [
    {
     "data": {
      "text/plain": [
       "{'snake': 0, 'humans': 2, 'monkey': 2, 'spider': 8}"
      ]
     },
     "execution_count": 291,
     "metadata": {},
     "output_type": "execute_result"
    }
   ],
   "source": [
    "animals"
   ]
  },
  {
   "cell_type": "code",
   "execution_count": null,
   "metadata": {},
   "outputs": [],
   "source": [
    "animals['cat']= 4"
   ]
  },
  {
   "cell_type": "markdown",
   "metadata": {},
   "source": []
  },
  {
   "cell_type": "code",
   "execution_count": null,
   "metadata": {},
   "outputs": [
    {
     "data": {
      "text/plain": [
       "{'snake': 0, 'humans': 2, 'monkey': 2, 'spider': 8, 'cat': 4}"
      ]
     },
     "execution_count": 295,
     "metadata": {},
     "output_type": "execute_result"
    }
   ],
   "source": [
    "animals"
   ]
  },
  {
   "cell_type": "code",
   "execution_count": null,
   "metadata": {},
   "outputs": [
    {
     "data": {
      "text/plain": [
       "dict_values([0, 2, 2, 8, 4])"
      ]
     },
     "execution_count": 296,
     "metadata": {},
     "output_type": "execute_result"
    }
   ],
   "source": [
    "animals.values()"
   ]
  },
  {
   "cell_type": "code",
   "execution_count": null,
   "metadata": {},
   "outputs": [
    {
     "data": {
      "text/plain": [
       "dict_keys(['snake', 'humans', 'monkey', 'spider', 'cat'])"
      ]
     },
     "execution_count": 298,
     "metadata": {},
     "output_type": "execute_result"
    }
   ],
   "source": [
    "animals.keys()"
   ]
  },
  {
   "cell_type": "code",
   "execution_count": null,
   "metadata": {},
   "outputs": [],
   "source": [
    "# if we have two lists how to make dictionary"
   ]
  },
  {
   "cell_type": "code",
   "execution_count": null,
   "metadata": {},
   "outputs": [],
   "source": [
    "x  = ['honda','kia','toyota']\n",
    "y = [1996,2005,2003]"
   ]
  },
  {
   "cell_type": "code",
   "execution_count": null,
   "metadata": {},
   "outputs": [],
   "source": [
    "d = {}\n",
    "for a,b in zip(x,y):\n",
    "    d[a] = b"
   ]
  },
  {
   "cell_type": "code",
   "execution_count": null,
   "metadata": {},
   "outputs": [
    {
     "data": {
      "text/plain": [
       "{'honda': 1996, 'kia': 2005, 'toyota': 2003}"
      ]
     },
     "execution_count": 302,
     "metadata": {},
     "output_type": "execute_result"
    }
   ],
   "source": [
    "d"
   ]
  },
  {
   "cell_type": "code",
   "execution_count": null,
   "metadata": {},
   "outputs": [],
   "source": [
    "x = [1,2,3,4,['apple','orange',['hello','asad']]]"
   ]
  },
  {
   "cell_type": "code",
   "execution_count": null,
   "metadata": {},
   "outputs": [
    {
     "data": {
      "text/plain": [
       "'asad'"
      ]
     },
     "execution_count": 311,
     "metadata": {},
     "output_type": "execute_result"
    }
   ],
   "source": [
    "x[4][2][1]"
   ]
  },
  {
   "cell_type": "code",
   "execution_count": null,
   "metadata": {},
   "outputs": [],
   "source": []
  },
  {
   "cell_type": "code",
   "execution_count": null,
   "metadata": {},
   "outputs": [],
   "source": [
    "complex_list = [ [1, 2.5, 'apple', True, [10, 20, 'nested', False]], ['banana', 3.14, 'asad', 42, [100, 'deep', [200, 'deeper', [300, 'deepest']]]], [False, 'cherry', [3, 4, [5, 6, 'asad', [7, 8]]], 9.99], [[1, 2, [3, 4, 'asad']], 'date', True, [False, 'end', [True, 'last']]], [3.333, 'asad', 'grape', [1000, 2000, [3000, 'levels']], ['asad', False]], [[['start', 1], 2.22], 'kiwi', [None, [3.33, 'asad', [4.44, 'end']]], [5.55, 6.66]] ]\n"
   ]
  },
  {
   "cell_type": "code",
   "execution_count": 345,
   "metadata": {},
   "outputs": [],
   "source": [
    "g = ['apple',['mangp',['orange','melon'],'asad'],'umair']"
   ]
  },
  {
   "cell_type": "code",
   "execution_count": 348,
   "metadata": {},
   "outputs": [
    {
     "data": {
      "text/plain": [
       "'asad'"
      ]
     },
     "execution_count": 348,
     "metadata": {},
     "output_type": "execute_result"
    }
   ],
   "source": [
    "g[1][2]"
   ]
  },
  {
   "cell_type": "code",
   "execution_count": 349,
   "metadata": {},
   "outputs": [],
   "source": [
    "# very good"
   ]
  },
  {
   "cell_type": "code",
   "execution_count": 350,
   "metadata": {},
   "outputs": [],
   "source": [
    "p = {'apple':'red','wood':'brown','spoon':'silver','python':['umair','list','data structure','asad']}"
   ]
  },
  {
   "cell_type": "code",
   "execution_count": 357,
   "metadata": {},
   "outputs": [
    {
     "data": {
      "text/plain": [
       "'asad'"
      ]
     },
     "execution_count": 357,
     "metadata": {},
     "output_type": "execute_result"
    }
   ],
   "source": [
    "p.get('python')[3]"
   ]
  },
  {
   "cell_type": "code",
   "execution_count": 18,
   "metadata": {},
   "outputs": [],
   "source": [
    "person = {'first_name':'Asad', 'last_name' : 'Saleem', 'age' : 13, 'city' : 'Jakarta'}"
   ]
  },
  {
   "cell_type": "code",
   "execution_count": 20,
   "metadata": {},
   "outputs": [
    {
     "data": {
      "text/plain": [
       "'Asad'"
      ]
     },
     "execution_count": 20,
     "metadata": {},
     "output_type": "execute_result"
    }
   ],
   "source": [
    "person['first_name']"
   ]
  },
  {
   "cell_type": "code",
   "execution_count": null,
   "metadata": {},
   "outputs": [],
   "source": []
  }
 ],
 "metadata": {
  "kernelspec": {
   "display_name": "Python 3",
   "language": "python",
   "name": "python3"
  },
  "language_info": {
   "codemirror_mode": {
    "name": "ipython",
    "version": 3
   },
   "file_extension": ".py",
   "mimetype": "text/x-python",
   "name": "python",
   "nbconvert_exporter": "python",
   "pygments_lexer": "ipython3",
   "version": "3.11.4"
  }
 },
 "nbformat": 4,
 "nbformat_minor": 2
}
