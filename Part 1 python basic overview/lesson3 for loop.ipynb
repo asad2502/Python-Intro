{
 "cells": [
  {
   "cell_type": "markdown",
   "metadata": {},
   "source": [
    "# print conting from 1 to 10"
   ]
  },
  {
   "cell_type": "code",
   "execution_count": 2,
   "metadata": {},
   "outputs": [],
   "source": [
    "x = '1,2,3,4,5,6,7,8,9,10'"
   ]
  },
  {
   "cell_type": "code",
   "execution_count": 5,
   "metadata": {},
   "outputs": [
    {
     "data": {
      "text/plain": [
       "['1', '2', '3', '4', '5', '6', '7', '8', '9', '10']"
      ]
     },
     "execution_count": 5,
     "metadata": {},
     "output_type": "execute_result"
    }
   ],
   "source": [
    "y = x.split(',')\n",
    "y"
   ]
  },
  {
   "cell_type": "code",
   "execution_count": 7,
   "metadata": {},
   "outputs": [
    {
     "data": {
      "text/plain": [
       "[1, 2, 3, 4, 5, 6, 7, 8, 9, 10]"
      ]
     },
     "execution_count": 7,
     "metadata": {},
     "output_type": "execute_result"
    }
   ],
   "source": [
    "z = [int(i)   for i in y]\n",
    "z"
   ]
  },
  {
   "cell_type": "code",
   "execution_count": 11,
   "metadata": {},
   "outputs": [
    {
     "data": {
      "text/plain": [
       "[1, 2, 3, 4, 5, 6, 7, 8, 9, 10]"
      ]
     },
     "execution_count": 11,
     "metadata": {},
     "output_type": "execute_result"
    }
   ],
   "source": [
    "w = list(  range(1,11) )\n",
    "w"
   ]
  },
  {
   "cell_type": "code",
   "execution_count": 13,
   "metadata": {},
   "outputs": [
    {
     "data": {
      "text/plain": [
       "[1,\n",
       " 2,\n",
       " 3,\n",
       " 4,\n",
       " 5,\n",
       " 6,\n",
       " 7,\n",
       " 8,\n",
       " 9,\n",
       " 10,\n",
       " 11,\n",
       " 12,\n",
       " 13,\n",
       " 14,\n",
       " 15,\n",
       " 16,\n",
       " 17,\n",
       " 18,\n",
       " 19,\n",
       " 20,\n",
       " 21,\n",
       " 22,\n",
       " 23,\n",
       " 24,\n",
       " 25,\n",
       " 26,\n",
       " 27,\n",
       " 28,\n",
       " 29,\n",
       " 30,\n",
       " 31,\n",
       " 32,\n",
       " 33,\n",
       " 34,\n",
       " 35,\n",
       " 36,\n",
       " 37,\n",
       " 38,\n",
       " 39,\n",
       " 40,\n",
       " 41,\n",
       " 42,\n",
       " 43,\n",
       " 44,\n",
       " 45,\n",
       " 46,\n",
       " 47,\n",
       " 48,\n",
       " 49,\n",
       " 50,\n",
       " 51,\n",
       " 52,\n",
       " 53,\n",
       " 54,\n",
       " 55,\n",
       " 56,\n",
       " 57,\n",
       " 58,\n",
       " 59,\n",
       " 60,\n",
       " 61,\n",
       " 62,\n",
       " 63,\n",
       " 64,\n",
       " 65,\n",
       " 66,\n",
       " 67,\n",
       " 68,\n",
       " 69,\n",
       " 70,\n",
       " 71,\n",
       " 72,\n",
       " 73,\n",
       " 74,\n",
       " 75,\n",
       " 76,\n",
       " 77,\n",
       " 78,\n",
       " 79,\n",
       " 80,\n",
       " 81,\n",
       " 82,\n",
       " 83,\n",
       " 84,\n",
       " 85,\n",
       " 86,\n",
       " 87,\n",
       " 88,\n",
       " 89,\n",
       " 90,\n",
       " 91,\n",
       " 92,\n",
       " 93,\n",
       " 94,\n",
       " 95,\n",
       " 96,\n",
       " 97,\n",
       " 98,\n",
       " 99,\n",
       " 100]"
      ]
     },
     "execution_count": 13,
     "metadata": {},
     "output_type": "execute_result"
    }
   ],
   "source": [
    "o = list(    range(1,101))\n",
    "o"
   ]
  },
  {
   "cell_type": "code",
   "execution_count": 15,
   "metadata": {},
   "outputs": [
    {
     "ename": "TypeError",
     "evalue": "can't multiply sequence by non-int of type 'float'",
     "output_type": "error",
     "traceback": [
      "\u001b[0;31m---------------------------------------------------------------------------\u001b[0m",
      "\u001b[0;31mTypeError\u001b[0m                                 Traceback (most recent call last)",
      "Cell \u001b[0;32mIn[15], line 1\u001b[0m\n\u001b[0;32m----> 1\u001b[0m \u001b[43mo\u001b[49m\u001b[38;5;241;43m*\u001b[39;49m\u001b[38;5;241;43m1.1\u001b[39;49m\n",
      "\u001b[0;31mTypeError\u001b[0m: can't multiply sequence by non-int of type 'float'"
     ]
    }
   ],
   "source": [
    "o*1.1"
   ]
  },
  {
   "cell_type": "code",
   "execution_count": 17,
   "metadata": {},
   "outputs": [
    {
     "name": "stdout",
     "output_type": "stream",
     "text": [
      "1.1\n",
      "2.2\n",
      "3.3000000000000003\n",
      "4.4\n",
      "5.5\n",
      "6.6000000000000005\n",
      "7.700000000000001\n",
      "8.8\n",
      "9.9\n",
      "11.0\n",
      "12.100000000000001\n",
      "13.200000000000001\n",
      "14.3\n",
      "15.400000000000002\n",
      "16.5\n",
      "17.6\n",
      "18.700000000000003\n",
      "19.8\n",
      "20.900000000000002\n",
      "22.0\n",
      "23.1\n",
      "24.200000000000003\n",
      "25.3\n",
      "26.400000000000002\n",
      "27.500000000000004\n",
      "28.6\n",
      "29.700000000000003\n",
      "30.800000000000004\n",
      "31.900000000000002\n",
      "33.0\n",
      "34.1\n",
      "35.2\n",
      "36.300000000000004\n",
      "37.400000000000006\n",
      "38.5\n",
      "39.6\n",
      "40.7\n",
      "41.800000000000004\n",
      "42.900000000000006\n",
      "44.0\n",
      "45.1\n",
      "46.2\n",
      "47.300000000000004\n",
      "48.400000000000006\n",
      "49.50000000000001\n",
      "50.6\n",
      "51.7\n",
      "52.800000000000004\n",
      "53.900000000000006\n",
      "55.00000000000001\n",
      "56.1\n",
      "57.2\n",
      "58.300000000000004\n",
      "59.400000000000006\n",
      "60.50000000000001\n",
      "61.60000000000001\n",
      "62.7\n",
      "63.800000000000004\n",
      "64.9\n",
      "66.0\n",
      "67.10000000000001\n",
      "68.2\n",
      "69.30000000000001\n",
      "70.4\n",
      "71.5\n",
      "72.60000000000001\n",
      "73.7\n",
      "74.80000000000001\n",
      "75.9\n",
      "77.0\n",
      "78.10000000000001\n",
      "79.2\n",
      "80.30000000000001\n",
      "81.4\n",
      "82.5\n",
      "83.60000000000001\n",
      "84.7\n",
      "85.80000000000001\n",
      "86.9\n",
      "88.0\n",
      "89.10000000000001\n",
      "90.2\n",
      "91.30000000000001\n",
      "92.4\n",
      "93.50000000000001\n",
      "94.60000000000001\n",
      "95.7\n",
      "96.80000000000001\n",
      "97.9\n",
      "99.00000000000001\n",
      "100.10000000000001\n",
      "101.2\n",
      "102.30000000000001\n",
      "103.4\n",
      "104.50000000000001\n",
      "105.60000000000001\n",
      "106.7\n",
      "107.80000000000001\n",
      "108.9\n",
      "110.00000000000001\n"
     ]
    }
   ],
   "source": [
    "t = []\n",
    "for asad in o:\n",
    "    print(asad*1.1)\n",
    "    t.append(asad*1.1)"
   ]
  },
  {
   "cell_type": "code",
   "execution_count": 18,
   "metadata": {},
   "outputs": [
    {
     "data": {
      "text/plain": [
       "[1.1,\n",
       " 2.2,\n",
       " 3.3000000000000003,\n",
       " 4.4,\n",
       " 5.5,\n",
       " 6.6000000000000005,\n",
       " 7.700000000000001,\n",
       " 8.8,\n",
       " 9.9,\n",
       " 11.0,\n",
       " 12.100000000000001,\n",
       " 13.200000000000001,\n",
       " 14.3,\n",
       " 15.400000000000002,\n",
       " 16.5,\n",
       " 17.6,\n",
       " 18.700000000000003,\n",
       " 19.8,\n",
       " 20.900000000000002,\n",
       " 22.0,\n",
       " 23.1,\n",
       " 24.200000000000003,\n",
       " 25.3,\n",
       " 26.400000000000002,\n",
       " 27.500000000000004,\n",
       " 28.6,\n",
       " 29.700000000000003,\n",
       " 30.800000000000004,\n",
       " 31.900000000000002,\n",
       " 33.0,\n",
       " 34.1,\n",
       " 35.2,\n",
       " 36.300000000000004,\n",
       " 37.400000000000006,\n",
       " 38.5,\n",
       " 39.6,\n",
       " 40.7,\n",
       " 41.800000000000004,\n",
       " 42.900000000000006,\n",
       " 44.0,\n",
       " 45.1,\n",
       " 46.2,\n",
       " 47.300000000000004,\n",
       " 48.400000000000006,\n",
       " 49.50000000000001,\n",
       " 50.6,\n",
       " 51.7,\n",
       " 52.800000000000004,\n",
       " 53.900000000000006,\n",
       " 55.00000000000001,\n",
       " 56.1,\n",
       " 57.2,\n",
       " 58.300000000000004,\n",
       " 59.400000000000006,\n",
       " 60.50000000000001,\n",
       " 61.60000000000001,\n",
       " 62.7,\n",
       " 63.800000000000004,\n",
       " 64.9,\n",
       " 66.0,\n",
       " 67.10000000000001,\n",
       " 68.2,\n",
       " 69.30000000000001,\n",
       " 70.4,\n",
       " 71.5,\n",
       " 72.60000000000001,\n",
       " 73.7,\n",
       " 74.80000000000001,\n",
       " 75.9,\n",
       " 77.0,\n",
       " 78.10000000000001,\n",
       " 79.2,\n",
       " 80.30000000000001,\n",
       " 81.4,\n",
       " 82.5,\n",
       " 83.60000000000001,\n",
       " 84.7,\n",
       " 85.80000000000001,\n",
       " 86.9,\n",
       " 88.0,\n",
       " 89.10000000000001,\n",
       " 90.2,\n",
       " 91.30000000000001,\n",
       " 92.4,\n",
       " 93.50000000000001,\n",
       " 94.60000000000001,\n",
       " 95.7,\n",
       " 96.80000000000001,\n",
       " 97.9,\n",
       " 99.00000000000001,\n",
       " 100.10000000000001,\n",
       " 101.2,\n",
       " 102.30000000000001,\n",
       " 103.4,\n",
       " 104.50000000000001,\n",
       " 105.60000000000001,\n",
       " 106.7,\n",
       " 107.80000000000001,\n",
       " 108.9,\n",
       " 110.00000000000001]"
      ]
     },
     "execution_count": 18,
     "metadata": {},
     "output_type": "execute_result"
    }
   ],
   "source": [
    "t"
   ]
  },
  {
   "cell_type": "code",
   "execution_count": 22,
   "metadata": {},
   "outputs": [
    {
     "data": {
      "text/plain": [
       "2.0"
      ]
     },
     "execution_count": 22,
     "metadata": {},
     "output_type": "execute_result"
    }
   ],
   "source": [
    "4 /2"
   ]
  },
  {
   "cell_type": "code",
   "execution_count": 23,
   "metadata": {},
   "outputs": [
    {
     "data": {
      "text/plain": [
       "1"
      ]
     },
     "execution_count": 23,
     "metadata": {},
     "output_type": "execute_result"
    }
   ],
   "source": [
    "3 % 2"
   ]
  },
  {
   "cell_type": "code",
   "execution_count": 24,
   "metadata": {},
   "outputs": [
    {
     "data": {
      "text/plain": [
       "0"
      ]
     },
     "execution_count": 24,
     "metadata": {},
     "output_type": "execute_result"
    }
   ],
   "source": [
    "6 % 2"
   ]
  },
  {
   "cell_type": "code",
   "execution_count": null,
   "metadata": {},
   "outputs": [],
   "source": []
  },
  {
   "cell_type": "code",
   "execution_count": 27,
   "metadata": {},
   "outputs": [
    {
     "name": "stdout",
     "output_type": "stream",
     "text": [
      "1 is odd\n",
      "2 is even number\n",
      "3 is odd\n",
      "4 is even number\n",
      "5 is odd\n",
      "6 is even number\n",
      "7 is odd\n",
      "8 is even number\n",
      "9 is odd\n"
     ]
    }
   ],
   "source": [
    "for i in range(1,10):\n",
    "    if i %2 ==0:\n",
    "        print(f'{i} is even number')\n",
    "    else:\n",
    "        print(f'{i} is odd')"
   ]
  },
  {
   "cell_type": "code",
   "execution_count": 31,
   "metadata": {},
   "outputs": [],
   "source": [
    "g = [1,32,4,5,2,1,52,53,1,2,4,67,3,2,4,3,53,3,5,6,7,9,4,2,3,57,4,7,86,3,43,6,75,768,653,7,3,422,45,4,67,8,9,4]\n",
    "even = [i for i in g if i%2==0]\n",
    "odd = [i for i in g if i%2!=0]\n"
   ]
  },
  {
   "cell_type": "code",
   "execution_count": 32,
   "metadata": {},
   "outputs": [
    {
     "data": {
      "text/plain": [
       "[32, 4, 2, 52, 2, 4, 2, 4, 6, 4, 2, 4, 86, 6, 768, 422, 4, 8, 4]"
      ]
     },
     "execution_count": 32,
     "metadata": {},
     "output_type": "execute_result"
    }
   ],
   "source": [
    "even"
   ]
  },
  {
   "cell_type": "code",
   "execution_count": 33,
   "metadata": {},
   "outputs": [
    {
     "data": {
      "text/plain": [
       "[1,\n",
       " 5,\n",
       " 1,\n",
       " 53,\n",
       " 1,\n",
       " 67,\n",
       " 3,\n",
       " 3,\n",
       " 53,\n",
       " 3,\n",
       " 5,\n",
       " 7,\n",
       " 9,\n",
       " 3,\n",
       " 57,\n",
       " 7,\n",
       " 3,\n",
       " 43,\n",
       " 75,\n",
       " 653,\n",
       " 7,\n",
       " 3,\n",
       " 45,\n",
       " 67,\n",
       " 9]"
      ]
     },
     "execution_count": 33,
     "metadata": {},
     "output_type": "execute_result"
    }
   ],
   "source": [
    "odd"
   ]
  },
  {
   "cell_type": "code",
   "execution_count": 36,
   "metadata": {},
   "outputs": [
    {
     "name": "stdout",
     "output_type": "stream",
     "text": [
      "1 is odd\n",
      "32 is even number\n",
      "4 is even number\n",
      "5 is odd\n",
      "2 is even number\n",
      "1 is odd\n",
      "52 is even number\n",
      "53 is odd\n",
      "1 is odd\n",
      "2 is even number\n",
      "4 is even number\n",
      "67 is odd\n",
      "3 is odd\n",
      "2 is even number\n",
      "4 is even number\n",
      "3 is odd\n",
      "53 is odd\n",
      "3 is odd\n",
      "5 is odd\n",
      "6 is even number\n",
      "7 is odd\n",
      "9 is odd\n",
      "4 is even number\n",
      "2 is even number\n",
      "3 is odd\n",
      "57 is odd\n",
      "4 is even number\n",
      "7 is odd\n",
      "86 is even number\n",
      "3 is odd\n",
      "43 is odd\n",
      "6 is even number\n",
      "75 is odd\n",
      "768 is even number\n",
      "653 is odd\n",
      "7 is odd\n",
      "3 is odd\n",
      "422 is even number\n",
      "45 is odd\n",
      "4 is even number\n",
      "67 is odd\n",
      "8 is even number\n",
      "9 is odd\n",
      "4 is even number\n"
     ]
    }
   ],
   "source": [
    "even = []\n",
    "odd = []\n",
    "for i in g:\n",
    "    if i %2 ==0:\n",
    "        print(f'{i} is even number')\n",
    "        even.append(i)\n",
    "    else:\n",
    "        print(f'{i} is odd')\n",
    "        odd.append(i)\n"
   ]
  },
  {
   "cell_type": "code",
   "execution_count": 37,
   "metadata": {},
   "outputs": [
    {
     "data": {
      "text/plain": [
       "[32, 4, 2, 52, 2, 4, 2, 4, 6, 4, 2, 4, 86, 6, 768, 422, 4, 8, 4]"
      ]
     },
     "execution_count": 37,
     "metadata": {},
     "output_type": "execute_result"
    }
   ],
   "source": [
    "even\n"
   ]
  },
  {
   "cell_type": "code",
   "execution_count": 38,
   "metadata": {},
   "outputs": [
    {
     "data": {
      "text/plain": [
       "[1,\n",
       " 5,\n",
       " 1,\n",
       " 53,\n",
       " 1,\n",
       " 67,\n",
       " 3,\n",
       " 3,\n",
       " 53,\n",
       " 3,\n",
       " 5,\n",
       " 7,\n",
       " 9,\n",
       " 3,\n",
       " 57,\n",
       " 7,\n",
       " 3,\n",
       " 43,\n",
       " 75,\n",
       " 653,\n",
       " 7,\n",
       " 3,\n",
       " 45,\n",
       " 67,\n",
       " 9]"
      ]
     },
     "execution_count": 38,
     "metadata": {},
     "output_type": "execute_result"
    }
   ],
   "source": [
    "odd"
   ]
  },
  {
   "cell_type": "code",
   "execution_count": null,
   "metadata": {},
   "outputs": [],
   "source": []
  },
  {
   "cell_type": "code",
   "execution_count": null,
   "metadata": {},
   "outputs": [],
   "source": []
  }
 ],
 "metadata": {
  "kernelspec": {
   "display_name": "Python 3",
   "language": "python",
   "name": "python3"
  },
  "language_info": {
   "codemirror_mode": {
    "name": "ipython",
    "version": 3
   },
   "file_extension": ".py",
   "mimetype": "text/x-python",
   "name": "python",
   "nbconvert_exporter": "python",
   "pygments_lexer": "ipython3",
   "version": "3.11.4"
  }
 },
 "nbformat": 4,
 "nbformat_minor": 2
}
