{
 "cells": [
  {
   "cell_type": "code",
   "execution_count": 2,
   "metadata": {},
   "outputs": [],
   "source": [
    "def greetings(name):\n",
    "    print(f'hello and welcome {name}!')\n",
    "# we have defined a function it is taking name as parameter sn it is printing greetings"
   ]
  },
  {
   "cell_type": "code",
   "execution_count": 3,
   "metadata": {},
   "outputs": [
    {
     "name": "stdout",
     "output_type": "stream",
     "text": [
      "hello and welcome Asad!\n"
     ]
    }
   ],
   "source": [
    "# now we call the fucntion\n",
    "greetings('Asad')"
   ]
  },
  {
   "cell_type": "code",
   "execution_count": 4,
   "metadata": {},
   "outputs": [
    {
     "name": "stdout",
     "output_type": "stream",
     "text": [
      "hello and welcome Ali!\n"
     ]
    }
   ],
   "source": [
    "greetings('Ali')"
   ]
  },
  {
   "cell_type": "code",
   "execution_count": 5,
   "metadata": {},
   "outputs": [],
   "source": [
    "# special_greetings, if name == 'Asad , print( special greeting) else print normal greeting with ame"
   ]
  },
  {
   "cell_type": "code",
   "execution_count": 6,
   "metadata": {},
   "outputs": [],
   "source": [
    "def special_greetings(name):\n",
    "    if name.lower() == 'asad':\n",
    "        print(f'Good Morning, Asad')\n",
    "    else:\n",
    "        print(f'hello and welcome {name}!')\n"
   ]
  },
  {
   "cell_type": "code",
   "execution_count": 7,
   "metadata": {},
   "outputs": [
    {
     "name": "stdout",
     "output_type": "stream",
     "text": [
      "Good Morning, Asad\n"
     ]
    }
   ],
   "source": [
    "special_greetings('AsAD')"
   ]
  },
  {
   "cell_type": "code",
   "execution_count": 8,
   "metadata": {},
   "outputs": [
    {
     "data": {
      "text/plain": [
       "'asad'"
      ]
     },
     "execution_count": 8,
     "metadata": {},
     "output_type": "execute_result"
    }
   ],
   "source": [
    "name = 'AsAD'\n",
    "name.lower()"
   ]
  },
  {
   "cell_type": "code",
   "execution_count": null,
   "metadata": {},
   "outputs": [],
   "source": []
  },
  {
   "cell_type": "code",
   "execution_count": 9,
   "metadata": {},
   "outputs": [],
   "source": [
    "def deposit(amount,deposit_amount):\n",
    "    return amount + deposit_amount\n",
    "\n",
    "def withdrawal(amount,withdrawal_amount):\n",
    "    return amount - withdrawal_amount\n",
    "    "
   ]
  },
  {
   "cell_type": "code",
   "execution_count": 10,
   "metadata": {},
   "outputs": [],
   "source": [
    "amount = 1000\n",
    "while True:\n",
    "    x = input('please choose 1 for depostite and 2 for withdrawl:, 0 for terminate')\n",
    "    if x == '1':\n",
    "        y = int(input('please write money you want to deposite'))\n",
    "        amount = deposit(amount,y)\n",
    "    if x =='2':\n",
    "        y = int(input('please write the amount of money you want to withdraw'))\n",
    "        amount = withdrawal(amount,y)\n",
    "    if x == '0':\n",
    "        break\n",
    "    print(' your current balance is ',amount)\n"
   ]
  },
  {
   "cell_type": "code",
   "execution_count": 11,
   "metadata": {},
   "outputs": [
    {
     "data": {
      "text/plain": [
       "6000"
      ]
     },
     "execution_count": 11,
     "metadata": {},
     "output_type": "execute_result"
    }
   ],
   "source": [
    "deposit(deposit_amount=1000, amount = 5000) #keyword argument"
   ]
  },
  {
   "cell_type": "code",
   "execution_count": 12,
   "metadata": {},
   "outputs": [
    {
     "data": {
      "text/plain": [
       "4500"
      ]
     },
     "execution_count": 12,
     "metadata": {},
     "output_type": "execute_result"
    }
   ],
   "source": [
    "withdrawal(5000,500) #position"
   ]
  },
  {
   "cell_type": "code",
   "execution_count": 15,
   "metadata": {},
   "outputs": [],
   "source": [
    "def person(name,age,nationality):\n",
    "    return f'the name of the person is {name} the age of the person is {age} and his/her nationality is {nationality}'"
   ]
  },
  {
   "cell_type": "code",
   "execution_count": 19,
   "metadata": {},
   "outputs": [
    {
     "data": {
      "text/plain": [
       "'the name of the person is Ali the age of the person is 20 and his/her nationality is Pakistani'"
      ]
     },
     "execution_count": 19,
     "metadata": {},
     "output_type": "execute_result"
    }
   ],
   "source": [
    "# keyword arugem\n",
    "person(age = 20, name = 'Ali', nationality = 'Pakistani')"
   ]
  },
  {
   "cell_type": "code",
   "execution_count": null,
   "metadata": {},
   "outputs": [],
   "source": []
  }
 ],
 "metadata": {
  "kernelspec": {
   "display_name": "Python 3",
   "language": "python",
   "name": "python3"
  },
  "language_info": {
   "codemirror_mode": {
    "name": "ipython",
    "version": 3
   },
   "file_extension": ".py",
   "mimetype": "text/x-python",
   "name": "python",
   "nbconvert_exporter": "python",
   "pygments_lexer": "ipython3",
   "version": "3.11.4"
  }
 },
 "nbformat": 4,
 "nbformat_minor": 2
}
