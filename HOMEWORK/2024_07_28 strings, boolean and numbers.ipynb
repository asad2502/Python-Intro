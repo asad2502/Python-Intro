{
 "cells": [
  {
   "cell_type": "code",
   "execution_count": null,
   "metadata": {},
   "outputs": [],
   "source": [
    "1. Using Formatting Methods in Python\n",
    "\n",
    "Hint: Create variables for the name, age, and color of an animal. Use f-strings, str.format(), and % formatting to print a sentence using these variables.\n",
    "\n",
    "# Example variables\n",
    "animal_name = \"Namima\"\n",
    "animal_age = 5\n",
    "animal_color = \"brown\"\n",
    "\n",
    "2. Writing a Sentence with Variables\n",
    "\n",
    "Hint: Define a string variable and print it.\n",
    "\n",
    "# Example variable\n",
    "s = \"the name of my planet is earth and it has the size of ....\"\n",
    "\n",
    "3. Boolean and Numbers\n",
    "\n",
    "Hint: Write a program that checks if a number is even and positive. Print appropriate messages based on the result.\n",
    "\n",
    "# Example variable\n",
    "num = 10\n",
    "\n",
    "4. Sum and Difference\n",
    "\n",
    "Hint: Create two variables to represent two numbers. Calculate their sum and difference. Print the results.\n",
    "\n",
    "# Example variables\n",
    "a = 15\n",
    "b = 7"
   ]
  },
  {
   "cell_type": "code",
   "execution_count": null,
   "metadata": {},
   "outputs": [],
   "source": [
    "animal_name = \"Namima\"\n",
    "animal_age = 5\n",
    "animal_color = \"brown\""
   ]
  },
  {
   "cell_type": "code",
   "execution_count": 8,
   "metadata": {},
   "outputs": [
    {
     "ename": "NameError",
     "evalue": "name 'animal_name' is not defined",
     "output_type": "error",
     "traceback": [
      "\u001b[0;31m---------------------------------------------------------------------------\u001b[0m",
      "\u001b[0;31mNameError\u001b[0m                                 Traceback (most recent call last)",
      "Cell \u001b[0;32mIn[8], line 1\u001b[0m\n\u001b[0;32m----> 1\u001b[0m \u001b[38;5;28mprint\u001b[39m(\u001b[38;5;124mf\u001b[39m\u001b[38;5;124m'\u001b[39m\u001b[38;5;124mThe animals name is \u001b[39m\u001b[38;5;132;01m{\u001b[39;00m\u001b[43manimal_name\u001b[49m\u001b[38;5;132;01m}\u001b[39;00m\u001b[38;5;124m, it is \u001b[39m\u001b[38;5;132;01m{\u001b[39;00manimal_age\u001b[38;5;132;01m}\u001b[39;00m\u001b[38;5;124m years old, and its color is \u001b[39m\u001b[38;5;132;01m{\u001b[39;00manimal_color\u001b[38;5;132;01m}\u001b[39;00m\u001b[38;5;124m.\u001b[39m\u001b[38;5;124m'\u001b[39m)\n",
      "\u001b[0;31mNameError\u001b[0m: name 'animal_name' is not defined"
     ]
    }
   ],
   "source": [
    "print(f'The animals name is {animal_name}, it is {animal_age} years old, and its color is {animal_color}.')"
   ]
  },
  {
   "cell_type": "code",
   "execution_count": 13,
   "metadata": {},
   "outputs": [
    {
     "name": "stdout",
     "output_type": "stream",
     "text": [
      "The number is even and positive.\n"
     ]
    }
   ],
   "source": [
    "num = 2\n",
    "\n",
    "# Check if the number is positive and even\n",
    "if num > 0:\n",
    "    if num % 2 == 0:\n",
    "        print(\"The number is even and positive.\")\n",
    "    else:\n",
    "        print(\"The number is positive but not even.\")\n",
    "else:\n",
    "    print(\"The number is not positive.\")"
   ]
  },
  {
   "cell_type": "code",
   "execution_count": null,
   "metadata": {},
   "outputs": [],
   "source": []
  }
 ],
 "metadata": {
  "kernelspec": {
   "display_name": "Python 3",
   "language": "python",
   "name": "python3"
  },
  "language_info": {
   "codemirror_mode": {
    "name": "ipython",
    "version": 3
   },
   "file_extension": ".py",
   "mimetype": "text/x-python",
   "name": "python",
   "nbconvert_exporter": "python",
   "pygments_lexer": "ipython3",
   "version": "3.11.4"
  }
 },
 "nbformat": 4,
 "nbformat_minor": 2
}
