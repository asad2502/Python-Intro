{
 "cells": [
  {
   "cell_type": "markdown",
   "metadata": {},
   "source": [
    "## Question 1\n",
    "\n",
    "1. Can you create a list of 5 colors?\n",
    "2. Can you create a list of 5 fruits?\n",
    "3. How would you initialize an empty dictionary in Python?\n",
    "4. How can you use a for loop to add the colors to the dictionary with keys like `color_1`, `color_2`, etc.?\n",
    "## Hint use for a,b in dictionary.items()\n",
    "\n",
    "You can use a for loop to iterate over the lists and add items to the dictionary with appropriate keys."
   ]
  },
  {
   "cell_type": "code",
   "execution_count": 4,
   "metadata": {},
   "outputs": [],
   "source": [
    "colors = ['blue', 'yellow', 'green', 'orange', 'black']\n",
    "fruits = ['apple', 'banana', 'orange', 'grape', 'kiwi']\n",
    "dictionary1 = {}\n",
    "for asad, umair in zip (colors, fruits):\n",
    "\n",
    "    dictionary1[f'color_{asad}'] = umair"
   ]
  },
  {
   "cell_type": "code",
   "execution_count": 5,
   "metadata": {},
   "outputs": [
    {
     "data": {
      "text/plain": [
       "{'color_blue': 'apple',\n",
       " 'color_yellow': 'banana',\n",
       " 'color_green': 'orange',\n",
       " 'color_orange': 'grape',\n",
       " 'color_black': 'kiwi'}"
      ]
     },
     "execution_count": 5,
     "metadata": {},
     "output_type": "execute_result"
    }
   ],
   "source": [
    "dictionary1"
   ]
  },
  {
   "cell_type": "code",
   "execution_count": null,
   "metadata": {},
   "outputs": [],
   "source": []
  },
  {
   "cell_type": "code",
   "execution_count": null,
   "metadata": {},
   "outputs": [],
   "source": []
  },
  {
   "cell_type": "code",
   "execution_count": null,
   "metadata": {},
   "outputs": [],
   "source": []
  },
  {
   "cell_type": "code",
   "execution_count": null,
   "metadata": {},
   "outputs": [],
   "source": []
  },
  {
   "cell_type": "code",
   "execution_count": null,
   "metadata": {},
   "outputs": [],
   "source": []
  },
  {
   "cell_type": "code",
   "execution_count": null,
   "metadata": {},
   "outputs": [],
   "source": []
  },
  {
   "cell_type": "code",
   "execution_count": null,
   "metadata": {},
   "outputs": [],
   "source": []
  },
  {
   "cell_type": "markdown",
   "metadata": {},
   "source": [
    "# Challenge: Create a Guessing Game\n",
    "\n",
    "## Question\n",
    "3. How will you keep track of the number of attempts a user makes to guess the number?\n",
    "4. How can you store the scores of winners and losers in a dictionary?\n",
    "5. How will you check if the guessed number is higher or lower than the target number and give feedback to the user?\n",
    "6. How can you update the dictionary with the result of each game, indicating if the user won or lost and the number of attempts?\n",
    "\n",
    "## Hint\n",
    "\n",
    "- Use the `random.randint` function to generate a random number.\n",
    "- Use a while loop to allow the user to keep guessing until they get the right number.\n",
    "- Use an if-else statement to compare the guessed number with the target number and provide feedback.\n",
    "- Initialize a dictionary to store scores, and update it after each game.\n",
    "- Keep track of the number of attempts in a variable and use it to update the scores dictionary."
   ]
  },
  {
   "cell_type": "markdown",
   "metadata": {},
   "source": []
  },
  {
   "cell_type": "code",
   "execution_count": null,
   "metadata": {},
   "outputs": [],
   "source": []
  },
  {
   "cell_type": "code",
   "execution_count": null,
   "metadata": {},
   "outputs": [],
   "source": []
  },
  {
   "cell_type": "code",
   "execution_count": null,
   "metadata": {},
   "outputs": [],
   "source": []
  },
  {
   "cell_type": "code",
   "execution_count": null,
   "metadata": {},
   "outputs": [],
   "source": []
  }
 ],
 "metadata": {
  "kernelspec": {
   "display_name": "Python 3",
   "language": "python",
   "name": "python3"
  },
  "language_info": {
   "codemirror_mode": {
    "name": "ipython",
    "version": 3
   },
   "file_extension": ".py",
   "mimetype": "text/x-python",
   "name": "python",
   "nbconvert_exporter": "python",
   "pygments_lexer": "ipython3",
   "version": "3.11.4"
  }
 },
 "nbformat": 4,
 "nbformat_minor": 2
}
